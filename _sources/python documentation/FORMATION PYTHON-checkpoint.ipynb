{
 "cells": [
  {
   "cell_type": "markdown",
   "id": "571b72e2",
   "metadata": {},
   "source": [
    "## Introduction \n"
   ]
  },
  {
   "cell_type": "raw",
   "id": "7459a7ce",
   "metadata": {},
   "source": [
    "Pour mettre une image dans un fichier markdown, il faut123:\n",
    "Placer le fichier .md et l'image dans le même répertoire sur l'ordinateur.\n",
    "Utiliser la syntaxe ! [Texte alternatif] (nom_de_l_image.extension \"Titre de l'image\") dans le fichier .md.\n",
    "Le texte alternatif est le texte qui s'affiche si l'image ne se charge pas.\n",
    "Le titre de l'image est facultatif et apparaît au survol de la souris."
   ]
  },
  {
   "cell_type": "markdown",
   "id": "fdf32c8b",
   "metadata": {},
   "source": [
    "## 3 Affichage"
   ]
  },
  {
   "cell_type": "code",
   "execution_count": 1,
   "id": "9324ce98",
   "metadata": {},
   "outputs": [
    {
     "name": "stdout",
     "output_type": "stream",
     "text": [
      "Hello Joe\n"
     ]
    }
   ],
   "source": [
    "print(\"Hello\", end=\" \") ; print(\"Joe\")"
   ]
  },
  {
   "cell_type": "code",
   "execution_count": 2,
   "id": "3dda9700",
   "metadata": {},
   "outputs": [
    {
     "name": "stdout",
     "output_type": "stream",
     "text": [
      "John-a-32-ans\n"
     ]
    }
   ],
   "source": [
    "x = 32\n",
    "nom = \"John\"\n",
    "print(nom, \"a\", x, \"ans\", sep=\"-\")"
   ]
  },
  {
   "cell_type": "markdown",
   "id": "ef5a2937",
   "metadata": {},
   "source": [
    "### 3.2 Écriture formatée"
   ]
  },
  {
   "cell_type": "markdown",
   "id": "796981fc",
   "metadata": {},
   "source": [
    "L'écriture formatée est incontournable lorsqu'on veut créer des fichiers organisés en « belles colonnes »"
   ]
  },
  {
   "cell_type": "code",
   "execution_count": 3,
   "id": "43f124f3",
   "metadata": {},
   "outputs": [
    {
     "data": {
      "text/plain": [
       "'Ceci est une chaîne de caractères'"
      ]
     },
     "execution_count": 3,
     "metadata": {},
     "output_type": "execute_result"
    }
   ],
   "source": [
    "f\"Ceci est une chaîne de caractères\"\n",
    "# Ce caractère f avant les guillemets va indiquer à Python qu'il s'agit d'une \n",
    "#f-string permettant de mettre en place le mécanisme de l'écriture formatée"
   ]
  },
  {
   "cell_type": "code",
   "execution_count": 4,
   "id": "14f9cbb2",
   "metadata": {},
   "outputs": [
    {
     "name": "stdout",
     "output_type": "stream",
     "text": [
      "John a 32 ans\n"
     ]
    }
   ],
   "source": [
    "print(f\"{nom} a {x} ans\")"
   ]
  },
  {
   "cell_type": "code",
   "execution_count": 5,
   "id": "b71c3f3e",
   "metadata": {},
   "outputs": [
    {
     "name": "stdout",
     "output_type": "stream",
     "text": [
      "to et to font toto\n"
     ]
    }
   ],
   "source": [
    "var = \"to\"\n",
    "print(f\"{var} et {var} font {var}{var}\")"
   ]
  },
  {
   "cell_type": "code",
   "execution_count": 6,
   "id": "c1481710",
   "metadata": {},
   "outputs": [
    {
     "name": "stdout",
     "output_type": "stream",
     "text": [
      "La proportion de GC est 0.4780405405405405\n"
     ]
    }
   ],
   "source": [
    "# On peut également spécifier le format de leur affichage.\n",
    "prop_GC = (4500 + 2575) / 14800\n",
    "print(\"La proportion de GC est\", prop_GC)"
   ]
  },
  {
   "cell_type": "code",
   "execution_count": 7,
   "id": "caefc775",
   "metadata": {},
   "outputs": [
    {
     "name": "stdout",
     "output_type": "stream",
     "text": [
      "La proportion de GC est 0.478\n"
     ]
    }
   ],
   "source": [
    "print(f\"La proportion de GC est {prop_GC:.3f}\")"
   ]
  },
  {
   "cell_type": "code",
   "execution_count": 8,
   "id": "41e64632",
   "metadata": {},
   "outputs": [
    {
     "name": "stdout",
     "output_type": "stream",
     "text": [
      "10\n",
      "1000\n"
     ]
    }
   ],
   "source": [
    "print(10) ; print(1000)\n"
   ]
  },
  {
   "cell_type": "code",
   "execution_count": 9,
   "id": "7ce81b67",
   "metadata": {},
   "outputs": [
    {
     "name": "stdout",
     "output_type": "stream",
     "text": [
      "                  10\n",
      "                1000\n"
     ]
    }
   ],
   "source": [
    "# > spécifie un alignement à droite, \n",
    "print(f\"{10:>20d}\") ; print(f\"{1000:>20d}\")\n"
   ]
  },
  {
   "cell_type": "code",
   "execution_count": 10,
   "id": "064994c1",
   "metadata": {},
   "outputs": [
    {
     "name": "stdout",
     "output_type": "stream",
     "text": [
      "10    \n",
      "1000  \n"
     ]
    }
   ],
   "source": [
    "#v< spécifie un alignement à gauche \n",
    "print(f\"{10:<6d}\") ; print(f\"{1000:<6d}\")\n"
   ]
  },
  {
   "cell_type": "code",
   "execution_count": 11,
   "id": "6d4a1ed6",
   "metadata": {},
   "outputs": [
    {
     "name": "stdout",
     "output_type": "stream",
     "text": [
      "  10  \n",
      " 1000 \n"
     ]
    }
   ],
   "source": [
    "# et ^ spécifie un alignement centré\n",
    "print(f\"{10:^6d}\") ; print(f\"{1000:^6d}\")\n"
   ]
  },
  {
   "cell_type": "code",
   "execution_count": 12,
   "id": "ca8f4046",
   "metadata": {},
   "outputs": [
    {
     "name": "stdout",
     "output_type": "stream",
     "text": [
      "##10##\n",
      "*1000*\n"
     ]
    }
   ],
   "source": [
    "print(f\"{10:#^6d}\") ; print(f\"{1000:*^6d}\")\n"
   ]
  },
  {
   "cell_type": "code",
   "execution_count": 13,
   "id": "065c39fa",
   "metadata": {},
   "outputs": [
    {
     "name": "stdout",
     "output_type": "stream",
     "text": [
      "000010\n",
      "001000\n"
     ]
    }
   ],
   "source": [
    "print(f\"{10:0>6d}\") ; print(f\"{1000:0>6d}\")"
   ]
  },
  {
   "cell_type": "code",
   "execution_count": 14,
   "id": "82fbdb9a",
   "metadata": {},
   "outputs": [
    {
     "name": "stdout",
     "output_type": "stream",
     "text": [
      "atom HN\n",
      "atom HDE1\n"
     ]
    }
   ],
   "source": [
    "print(\"atom HN\") ; print(\"atom HDE1\")"
   ]
  },
  {
   "cell_type": "code",
   "execution_count": 15,
   "id": "48a04842",
   "metadata": {},
   "outputs": [
    {
     "name": "stdout",
     "output_type": "stream",
     "text": [
      "atom    HN\n",
      "atom  HDE1\n"
     ]
    }
   ],
   "source": [
    "print(f\"atom {'HN':>5s}\") ; print(f\"atom {'HDE1':>5s}\")"
   ]
  },
  {
   "cell_type": "code",
   "execution_count": 16,
   "id": "42977526",
   "metadata": {},
   "outputs": [
    {
     "name": "stdout",
     "output_type": "stream",
     "text": [
      "Le résultat de 5 * 5 vaut 25\n",
      "Le minimum est -2\n"
     ]
    }
   ],
   "source": [
    "# possible d'y mettre directement une opération ou encore un appel à une fonction\n",
    "\n",
    "print(f\"Le résultat de 5 * 5 vaut {5 * 5}\")\n",
    "print(f\"Le minimum est {min(1, -2, 4)}\")"
   ]
  },
  {
   "cell_type": "markdown",
   "id": "ca1d877b",
   "metadata": {},
   "source": [
    "[memo](https://fstring.help/cheat/)"
   ]
  },
  {
   "cell_type": "raw",
   "id": "e2f93bfc",
   "metadata": {},
   "source": [
    " La syntaxe générale est de la forme objet.méthode()"
   ]
  },
  {
   "cell_type": "code",
   "execution_count": 17,
   "id": "497fbca0",
   "metadata": {},
   "outputs": [
    {
     "name": "stdout",
     "output_type": "stream",
     "text": [
      "Le pourcentage de GC est 48      %\n",
      "Le pourcentage de GC est 47.8    %\n",
      "Le pourcentage de GC est 47.80   %\n",
      "Le pourcentage de GC est 47.804  %\n"
     ]
    }
   ],
   "source": [
    "perc_GC = ((4500 + 2575)/14800)*100\n",
    "print(f\"Le pourcentage de GC est {perc_GC:.0f} {'%':>6s}\")\n",
    "print(f\"Le pourcentage de GC est {perc_GC:.1f} {'%':>4s}\")\n",
    "print(f\"Le pourcentage de GC est {perc_GC:.2f} {'%':>3s}\")\n",
    "print(f\"Le pourcentage de GC est {perc_GC:.3f} {'%':>2s}\")"
   ]
  },
  {
   "cell_type": "markdown",
   "id": "12061aba",
   "metadata": {},
   "source": [
    "### 4 Listes"
   ]
  },
  {
   "cell_type": "code",
   "execution_count": 18,
   "id": "5fbf0194",
   "metadata": {},
   "outputs": [],
   "source": [
    " mixte = [\"girafe\", 5, \"souris\", 0.15]\n",
    "#les indices d'une liste de n éléments commencent à 0 et se terminent à n-1"
   ]
  },
  {
   "cell_type": "markdown",
   "id": "005d6859",
   "metadata": {},
   "source": [
    "#### 4.3 Opération sur les listes"
   ]
  },
  {
   "cell_type": "code",
   "execution_count": 19,
   "id": "b489123e",
   "metadata": {},
   "outputs": [
    {
     "data": {
      "text/plain": [
       "['girafe', 'tigre', 'girafe', 'tigre', 'girafe', 'tigre']"
      ]
     },
     "execution_count": 19,
     "metadata": {},
     "output_type": "execute_result"
    }
   ],
   "source": [
    "ani1 = [\"girafe\", \"tigre\"]\n",
    "ani2 = [\"singe\", \"souris\"]\n",
    "ani1 + ani2\n",
    "ani1 * 3"
   ]
  },
  {
   "cell_type": "code",
   "execution_count": 20,
   "id": "bf327fa3",
   "metadata": {},
   "outputs": [
    {
     "data": {
      "text/plain": [
       "[15, -5]"
      ]
     },
     "execution_count": 20,
     "metadata": {},
     "output_type": "execute_result"
    }
   ],
   "source": [
    "a = []\n",
    "a = a + [15]\n",
    "a += [-5]\n",
    "a"
   ]
  },
  {
   "cell_type": "code",
   "execution_count": 21,
   "id": "c0762507",
   "metadata": {},
   "outputs": [],
   "source": [
    "# avec la méthode .append() \n",
    "a.append(13)"
   ]
  },
  {
   "cell_type": "code",
   "execution_count": 22,
   "id": "e00bd0c7",
   "metadata": {},
   "outputs": [],
   "source": [
    "# indices négatifs "
   ]
  },
  {
   "cell_type": "code",
   "execution_count": 23,
   "id": "3797f8a9",
   "metadata": {},
   "outputs": [
    {
     "data": {
      "text/plain": [
       "['girafe', 'singe']"
      ]
     },
     "execution_count": 23,
     "metadata": {},
     "output_type": "execute_result"
    }
   ],
   "source": [
    "# tranche\n",
    "animaux = [\"girafe\", \"tigre\", \"singe\", \"souris\"]\n",
    "animaux[0:2]\n",
    "animaux[1:-1]\n",
    "animaux[0:3:2]"
   ]
  },
  {
   "cell_type": "code",
   "execution_count": 24,
   "id": "b5808526",
   "metadata": {},
   "outputs": [
    {
     "data": {
      "text/plain": [
       "[0, 3, 6, 9]"
      ]
     },
     "execution_count": 24,
     "metadata": {},
     "output_type": "execute_result"
    }
   ],
   "source": [
    "x = [0, 1, 2, 3, 4, 5, 6, 7, 8, 9]\n",
    "x[::3]"
   ]
  },
  {
   "cell_type": "code",
   "execution_count": 25,
   "id": "a4ed5723",
   "metadata": {},
   "outputs": [
    {
     "data": {
      "text/plain": [
       "[2, 1, 0, -1]"
      ]
     },
     "execution_count": 25,
     "metadata": {},
     "output_type": "execute_result"
    }
   ],
   "source": [
    "len(animaux)\n",
    "list(range(10))\n",
    "list(range(2, -2, -1))\n",
    "\n",
    "# range(début, fin, pas)"
   ]
  },
  {
   "cell_type": "markdown",
   "id": "3851cdde",
   "metadata": {},
   "source": [
    "## 5 Boucles et comparaisons"
   ]
  },
  {
   "cell_type": "markdown",
   "id": "9003c89b",
   "metadata": {},
   "source": [
    "# Data"
   ]
  },
  {
   "cell_type": "code",
   "execution_count": 26,
   "id": "ce594f1e",
   "metadata": {},
   "outputs": [
    {
     "name": "stdout",
     "output_type": "stream",
     "text": [
      "{'John': 1, 'Lourn': 2, 'Avrel': 3, 'Joe': 4}\n"
     ]
    }
   ],
   "source": [
    "#Integer\n",
    "x=10\n",
    "X=23\n",
    " \n",
    "#Float\n",
    "y=9.0\n",
    "pi= 3.14\n",
    " \n",
    "#Boolean\n",
    "boolVal1= True\n",
    "boolVal2= False\n",
    "#String\n",
    "unString =\"Ceci est une chaine de caractère !\"\n",
    "\n",
    "\n",
    "#Exemple d'une liste\n",
    "listExample = [1, 'r', 3.0,[1, 2, 3]] # une Liste est mutable\n",
    "\n",
    "#Exemple d'une liste\n",
    "# on définit un tuple avec ()\n",
    "tup1=(1, True, 7.5,9) # un tuple est inaltérable\n",
    "\n",
    "#Un dictionnaire est une collection non ordonnée de données sous forme de paire clé:valeur\n",
    "#Exemple de dictionnaire\n",
    "rank_dict = {'John':1, 'Lourn':2, 'Avrel':3, 'Joe':4}\n",
    "print(rank_dict)"
   ]
  },
  {
   "cell_type": "markdown",
   "id": "276a5d5f",
   "metadata": {},
   "source": [
    "## Les calculs"
   ]
  },
  {
   "cell_type": "code",
   "execution_count": 27,
   "id": "debb0c4d",
   "metadata": {},
   "outputs": [
    {
     "name": "stdout",
     "output_type": "stream",
     "text": [
      "6\n",
      "2\n",
      "8\n",
      "2.0\n",
      "0\n",
      "4\n",
      "16\n"
     ]
    }
   ],
   "source": [
    "# Integer ou Float\n",
    "x = 4\n",
    "y = 2\n",
    " \n",
    "# Addition\n",
    "print(x + y)\n",
    " \n",
    "# Soustraction\n",
    "print(x - y)\n",
    " \n",
    "# Multiplication\n",
    "print(x * y)\n",
    " \n",
    "# le quotient\n",
    "print(x / y)\n",
    " \n",
    "# le reste de la division\n",
    "print(x % y)\n",
    " \n",
    "# la valeur absolue\n",
    "print(abs(x))\n",
    " \n",
    "# x à la puissance y\n",
    "print(x ** y)"
   ]
  },
  {
   "cell_type": "code",
   "execution_count": 28,
   "id": "0608178e",
   "metadata": {},
   "outputs": [
    {
     "name": "stdout",
     "output_type": "stream",
     "text": [
      "True\n",
      "True\n"
     ]
    }
   ],
   "source": [
    "#exemple conversion Booléen en String\n",
    "x_bool = True\n",
    "x_boolToString= str(x_bool)\n",
    "print(x_boolToString)\n",
    "#exemple conversion Integer en Float\n",
    "y_int = 18\n",
    "y_intToString = float(y_int)\n",
    "print(x_boolToString)"
   ]
  },
  {
   "cell_type": "code",
   "execution_count": 29,
   "id": "355446f8",
   "metadata": {},
   "outputs": [
    {
     "name": "stdout",
     "output_type": "stream",
     "text": [
      "henri raconte des blablas\n"
     ]
    }
   ],
   "source": [
    "x='henri raconte des '\n",
    "y= 'blablas'\n",
    "print(x+y)"
   ]
  },
  {
   "cell_type": "code",
   "execution_count": 30,
   "id": "be5aca9a",
   "metadata": {},
   "outputs": [
    {
     "name": "stdout",
     "output_type": "stream",
     "text": [
      "J'aime Python \n",
      "J'aime Python \n",
      "J'aime Python \n",
      "J'aime Python \n",
      "J'aime Python \n",
      "J'aime Python \n",
      "J'aime Python \n",
      "J'aime Python \n",
      "J'aime Python \n",
      "J'aime Python \n",
      "\n"
     ]
    }
   ],
   "source": [
    "\t\n",
    "x=\"J'aime Python \\n\"\n",
    "print(x*10)"
   ]
  },
  {
   "cell_type": "markdown",
   "id": "9995e402",
   "metadata": {},
   "source": [
    "#### Manipulons les listes !"
   ]
  },
  {
   "cell_type": "code",
   "execution_count": 31,
   "id": "36697dae",
   "metadata": {},
   "outputs": [
    {
     "name": "stdout",
     "output_type": "stream",
     "text": [
      "1\n"
     ]
    }
   ],
   "source": [
    "x=[1,'2',3,'c','f']\n",
    "#le premier élément de la liste\n",
    "print(x[0])\n"
   ]
  },
  {
   "cell_type": "code",
   "execution_count": 32,
   "id": "caa4641c",
   "metadata": {},
   "outputs": [
    {
     "name": "stdout",
     "output_type": "stream",
     "text": [
      "f\n"
     ]
    }
   ],
   "source": [
    "#le dernier élément de la liste\n",
    "print(x[-1])"
   ]
  },
  {
   "cell_type": "code",
   "execution_count": 33,
   "id": "21be7eab",
   "metadata": {},
   "outputs": [
    {
     "name": "stdout",
     "output_type": "stream",
     "text": [
      "[1, '2', 3]\n"
     ]
    }
   ],
   "source": [
    "#les éléments entre l'index 0 et l'index 2\n",
    "print(x[0:3])\n"
   ]
  },
  {
   "cell_type": "code",
   "execution_count": 34,
   "id": "af79f393",
   "metadata": {},
   "outputs": [
    {
     "name": "stdout",
     "output_type": "stream",
     "text": [
      "['2', 3, 'c', 'f']\n"
     ]
    }
   ],
   "source": [
    "#les éléments après l'index 0\n",
    "print(x[1:])\n"
   ]
  },
  {
   "cell_type": "code",
   "execution_count": 35,
   "id": "f1b4bb7b",
   "metadata": {},
   "outputs": [
    {
     "name": "stdout",
     "output_type": "stream",
     "text": [
      "[1, '2']\n"
     ]
    }
   ],
   "source": [
    "#les éléments avant l'index 2\n",
    "print(x[:2])"
   ]
  },
  {
   "cell_type": "code",
   "execution_count": 36,
   "id": "4a275824",
   "metadata": {},
   "outputs": [
    {
     "data": {
      "text/plain": [
       "[3, 'c', 'f']"
      ]
     },
     "execution_count": 36,
     "metadata": {},
     "output_type": "execute_result"
    }
   ],
   "source": [
    "# Extraire les 3 derniers éléments\n",
    "x[-3:]"
   ]
  },
  {
   "cell_type": "markdown",
   "id": "35624a81",
   "metadata": {},
   "source": [
    " #### manipuler les listes"
   ]
  },
  {
   "cell_type": "code",
   "execution_count": 37,
   "id": "4a12c9f9",
   "metadata": {},
   "outputs": [
    {
     "name": "stdout",
     "output_type": "stream",
     "text": [
      "5\n"
     ]
    }
   ],
   "source": [
    "x=[1,'2',3,'c','f']\n",
    "#La longueur de la liste\n",
    "print(len(x))\n"
   ]
  },
  {
   "cell_type": "code",
   "execution_count": 38,
   "id": "4c9df31b",
   "metadata": {},
   "outputs": [
    {
     "data": {
      "text/plain": [
       "4"
      ]
     },
     "execution_count": 38,
     "metadata": {},
     "output_type": "execute_result"
    }
   ],
   "source": [
    "#Trouver l'index d'un élément\n",
    "x.index('f')\n"
   ]
  },
  {
   "cell_type": "code",
   "execution_count": 39,
   "id": "4ccb704d",
   "metadata": {},
   "outputs": [
    {
     "data": {
      "text/plain": [
       "1"
      ]
     },
     "execution_count": 39,
     "metadata": {},
     "output_type": "execute_result"
    }
   ],
   "source": [
    "#Compter l'occurrence d'un élément\n",
    "x.count('f')\n"
   ]
  },
  {
   "cell_type": "code",
   "execution_count": 40,
   "id": "e63719f6",
   "metadata": {},
   "outputs": [
    {
     "data": {
      "text/plain": [
       "[1, '2', 3, 'c', 'f', 'toto', 4, 5]"
      ]
     },
     "execution_count": 40,
     "metadata": {},
     "output_type": "execute_result"
    }
   ],
   "source": [
    "#Ajouter un élément avec \"append\" pour un seul élément ou \"extend\"pour plusieurs (en fin de liste)\n",
    "x.append('toto')\n",
    "x.extend([4, 5])\n",
    "x"
   ]
  },
  {
   "cell_type": "code",
   "execution_count": 41,
   "id": "5697f9af",
   "metadata": {},
   "outputs": [
    {
     "data": {
      "text/plain": [
       "['Premier', 1, '2', 3, 'c', 'f', 'toto', 4, 5]"
      ]
     },
     "execution_count": 41,
     "metadata": {},
     "output_type": "execute_result"
    }
   ],
   "source": [
    "#Insérer un élément à une position spécifique\n",
    "x.insert(0,'Premier')\n",
    "x"
   ]
  },
  {
   "cell_type": "code",
   "execution_count": 42,
   "id": "7703de50",
   "metadata": {},
   "outputs": [
    {
     "ename": "TypeError",
     "evalue": "'str' object cannot be interpreted as an integer",
     "output_type": "error",
     "traceback": [
      "\u001b[1;31m---------------------------------------------------------------------------\u001b[0m",
      "\u001b[1;31mTypeError\u001b[0m                                 Traceback (most recent call last)",
      "Cell \u001b[1;32mIn[42], line 3\u001b[0m\n\u001b[0;32m      1\u001b[0m \u001b[38;5;66;03m#Supprimer un élément\u001b[39;00m\n\u001b[0;32m      2\u001b[0m x\u001b[38;5;241m.\u001b[39mremove(\u001b[38;5;124m'\u001b[39m\u001b[38;5;124mf\u001b[39m\u001b[38;5;124m'\u001b[39m)\n\u001b[1;32m----> 3\u001b[0m \u001b[43mx\u001b[49m\u001b[38;5;241;43m.\u001b[39;49m\u001b[43mpop\u001b[49m\u001b[43m(\u001b[49m\u001b[38;5;124;43m'\u001b[39;49m\u001b[38;5;124;43mtoto\u001b[39;49m\u001b[38;5;124;43m'\u001b[39;49m\u001b[43m)\u001b[49m\n\u001b[0;32m      4\u001b[0m \u001b[38;5;28;01mdel\u001b[39;00m x[\u001b[38;5;241m0\u001b[39m]\n",
      "\u001b[1;31mTypeError\u001b[0m: 'str' object cannot be interpreted as an integer"
     ]
    }
   ],
   "source": [
    "#Supprimer un élément\n",
    "x.remove('f')\n",
    "x.pop('toto')\n",
    "del x[0]"
   ]
  },
  {
   "cell_type": "markdown",
   "id": "51e9a9e8",
   "metadata": {},
   "source": []
  },
  {
   "cell_type": "markdown",
   "id": "df9b7b84",
   "metadata": {},
   "source": [
    "#### manipuler les dictionnaires "
   ]
  },
  {
   "cell_type": "markdown",
   "id": "543f2efb",
   "metadata": {},
   "source": [
    "utilisera des clés au lieu des indexes "
   ]
  },
  {
   "cell_type": "code",
   "execution_count": null,
   "id": "9ae90b7d",
   "metadata": {},
   "outputs": [],
   "source": [
    "rank_dict = {'John':1, 'Lourn':2, 'Avrel':3, 'Joe':4}\n",
    "#afficher la valeur de la clé 'John'\n",
    "print(rank_dict['John'])"
   ]
  },
  {
   "cell_type": "code",
   "execution_count": null,
   "id": "49d6c711",
   "metadata": {},
   "outputs": [],
   "source": [
    "rank_dict_1 = {'John':1, 'Lourn':2}\n",
    "rank_dict_2 = {'Avrel':3, 'Joe':4}\n",
    "#Concaténation\n",
    "rank_dict_1.update(rank_dict_2)\n",
    "print(rank_dict_1)"
   ]
  },
  {
   "cell_type": "markdown",
   "id": "0ecf265a",
   "metadata": {},
   "source": [
    "#### 4.  Les Librairies"
   ]
  },
  {
   "cell_type": "markdown",
   "id": "932081d4",
   "metadata": {},
   "source": [
    "Une librairie Python est une collection de fonctions et de méthodes qui vous permet d’effectuer de nombreuses actions sans écrire votre propre code"
   ]
  },
  {
   "cell_type": "code",
   "execution_count": null,
   "id": "468a9ba2",
   "metadata": {},
   "outputs": [],
   "source": [
    "import math #import de la libraire math\n",
    "print(pi) #pi=3.141592653589793...\n",
    "print(cos(0)) # le cosinus de 0"
   ]
  },
  {
   "cell_type": "markdown",
   "id": "04b30204",
   "metadata": {},
   "source": [
    "# Les bases du language"
   ]
  },
  {
   "cell_type": "markdown",
   "id": "4f37777b",
   "metadata": {},
   "source": [
    "**Accès aux aides**"
   ]
  },
  {
   "cell_type": "markdown",
   "id": "3fc15367",
   "metadata": {},
   "source": [
    "\n",
    "Vous pouvez accéder aux aides en utilisant la combinaison Shift + Tab mais aussi en utilisant :"
   ]
  },
  {
   "cell_type": "code",
   "execution_count": null,
   "id": "8cdbb09c",
   "metadata": {
    "scrolled": true
   },
   "outputs": [],
   "source": [
    "help(sum)"
   ]
  },
  {
   "cell_type": "code",
   "execution_count": null,
   "id": "97601e73",
   "metadata": {},
   "outputs": [],
   "source": [
    "sum?"
   ]
  },
  {
   "cell_type": "code",
   "execution_count": null,
   "id": "3b5d434d",
   "metadata": {},
   "outputs": [],
   "source": [
    "sum??"
   ]
  },
  {
   "cell_type": "markdown",
   "id": "398b4f0a",
   "metadata": {},
   "source": [
    "\n",
    "**Les clés magiques de IPython**"
   ]
  },
  {
   "cell_type": "markdown",
   "id": "40b5099f",
   "metadata": {},
   "source": [
    "\n",
    "IPython possède de nombreuses clés magiques, elles sont appelées dans un Notebook en utilisant le symbole %. Une clé magique avec un % s'applique à une ligne, une clé magique avec %% s'applique à toute une cellule."
   ]
  },
  {
   "cell_type": "code",
   "execution_count": null,
   "id": "d4f2a72c",
   "metadata": {},
   "outputs": [],
   "source": [
    "# la liste des clés magiques, on peut utiliser :\n",
    "%lsmagic"
   ]
  },
  {
   "cell_type": "code",
   "execution_count": null,
   "id": "c4a7a723",
   "metadata": {},
   "outputs": [],
   "source": [
    "# Liste des objets chargés en mémoire\n",
    "%whos"
   ]
  },
  {
   "cell_type": "code",
   "execution_count": null,
   "id": "940bee92",
   "metadata": {},
   "outputs": [],
   "source": [
    "# Timer pour mesurer le temps de traitement\n",
    "%timeit 2**10"
   ]
  },
  {
   "cell_type": "code",
   "execution_count": null,
   "id": "45356406",
   "metadata": {},
   "outputs": [],
   "source": [
    "from __future__ import division\n",
    "from sympy import *\n",
    "x, y, z, t = symbols('x y z t')\n",
    "k, m, n = symbols('k m n', integer=True)\n",
    "f, g, h = symbols('f g h', cls=Function)\n"
   ]
  },
  {
   "cell_type": "code",
   "execution_count": null,
   "id": "b44559f4",
   "metadata": {},
   "outputs": [],
   "source": [
    "expr = (x + y)**3"
   ]
  },
  {
   "cell_type": "code",
   "execution_count": null,
   "id": "34042e9d",
   "metadata": {},
   "outputs": [],
   "source": [
    "print(1+1)"
   ]
  },
  {
   "cell_type": "markdown",
   "id": "666e249e",
   "metadata": {},
   "source": [
    " tous ce que nous allons utiliser sont des objets issus de classes. Ainsi ces objets ont les attributs et les méthodes liées aux classes."
   ]
  },
  {
   "cell_type": "code",
   "execution_count": null,
   "id": "40c32ead",
   "metadata": {},
   "outputs": [],
   "source": [
    "chaine1=\"Python\"\n",
    "# on utilise une méthode de la classe str :\n",
    "print(chaine1.upper())"
   ]
  },
  {
   "cell_type": "code",
   "execution_count": null,
   "id": "63a088ba",
   "metadata": {},
   "outputs": [],
   "source": [
    "#Pour tester un type\n",
    "type(chaine1) is str"
   ]
  },
  {
   "cell_type": "code",
   "execution_count": null,
   "id": "540c914f",
   "metadata": {},
   "outputs": [],
   "source": [
    "entier1=44\n",
    "type(chaine1) is type(entier1)"
   ]
  },
  {
   "cell_type": "markdown",
   "id": "e7b4c446",
   "metadata": {},
   "source": [
    "Il existe plusieurs structures en Python : les tuples, les listes et les dictionnaires en sont les pricipales."
   ]
  },
  {
   "cell_type": "markdown",
   "id": "63347751",
   "metadata": {},
   "source": [
    "La liste possède de nombreuses méthodes, ici on utilise une inversion des éléments."
   ]
  },
  {
   "cell_type": "code",
   "execution_count": null,
   "id": "fc569311",
   "metadata": {},
   "outputs": [],
   "source": [
    "# inversion des éléments.\n",
    "liste_pays=[\"Chine\",\"Inde\",\"Etats-Unis\",\"France\",\"Espagne\",\"Suisse\"]\n",
    "liste_pays.reverse()\n",
    "print(liste_pays)"
   ]
  },
  {
   "cell_type": "markdown",
   "id": "4e77a360",
   "metadata": {},
   "source": [
    "Les **list comprehension** sont des générateurs de listes qui utilisent des conditions et des boucles"
   ]
  },
  {
   "cell_type": "code",
   "execution_count": null,
   "id": "4f63fe30",
   "metadata": {},
   "outputs": [],
   "source": [
    "# on va extraire le carré des éléments pairs de la list_init\n",
    "list_init=[4,6,7,8]\n",
    "list_comp=[val**2 for val in list_init if val % 2 == 0]\n",
    "print(list_comp)"
   ]
  },
  {
   "cell_type": "markdown",
   "id": "9903f7d3",
   "metadata": {},
   "source": [
    "### Les chaînes de caratères"
   ]
  },
  {
   "cell_type": "code",
   "execution_count": null,
   "id": "37864d00",
   "metadata": {},
   "outputs": [],
   "source": [
    "chaine1=\"Python pour le data scientist\""
   ]
  },
  {
   "cell_type": "markdown",
   "id": "34bc0984",
   "metadata": {},
   "source": [
    "Une chaîne de caractère est en fait une liste spécifique dans laquelle chaque élément est un caractère"
   ]
  },
  {
   "cell_type": "code",
   "execution_count": null,
   "id": "fcdb6ddd",
   "metadata": {},
   "outputs": [],
   "source": [
    "print(chaine1[-14:])"
   ]
  },
  {
   "cell_type": "code",
   "execution_count": null,
   "id": "e4867e80",
   "metadata": {},
   "outputs": [],
   "source": [
    "# passer d'une chaîne de caractères à une liste\n",
    "# on sépare les éléments en utilisant l’espace\n",
    "liste1=chaine1.split()\n",
    "print(liste1)"
   ]
  },
  {
   "cell_type": "code",
   "execution_count": null,
   "id": "81334f8b",
   "metadata": {},
   "outputs": [],
   "source": [
    "# on joint les éléments avec l’espace\n",
    "chaine1bis=\" \".join(liste1)\n",
    "print(chaine1bis)"
   ]
  },
  {
   "cell_type": "markdown",
   "id": "4a3469f5",
   "metadata": {},
   "source": [
    "### Les dictionnaires"
   ]
  },
  {
   "cell_type": "markdown",
   "id": "94aad552",
   "metadata": {},
   "source": [
    "Les dictionnaires permettent de stocker des éléments en utilisant un système de clés."
   ]
  },
  {
   "cell_type": "code",
   "execution_count": null,
   "id": "48f63e64",
   "metadata": {},
   "outputs": [],
   "source": [
    "dict1={\"cle1\":\"valeur1\", \"cle2\":\"valeur2\", \"cle3\":\"valeur3\"}"
   ]
  },
  {
   "cell_type": "code",
   "execution_count": null,
   "id": "29f737e2",
   "metadata": {},
   "outputs": [],
   "source": [
    "# on accède à un élément par sa clé\n",
    "dict1[\"cle2\"]"
   ]
  },
  {
   "cell_type": "code",
   "execution_count": null,
   "id": "9ca8a207",
   "metadata": {},
   "outputs": [],
   "source": [
    "# on peut afficher la liste des clés\n",
    "dict1.keys()"
   ]
  },
  {
   "cell_type": "code",
   "execution_count": null,
   "id": "86e9996c",
   "metadata": {},
   "outputs": [],
   "source": [
    "# on peut aussi afficher les pairs clé : valeur\n",
    "dict1.items()"
   ]
  },
  {
   "cell_type": "code",
   "execution_count": null,
   "id": "3ac08dbf",
   "metadata": {},
   "outputs": [],
   "source": [
    "# on crée une clé et a valeur associée :\n",
    "dict1[\"cle4\"]=\"valeur4\"\n",
    "dict1.items()"
   ]
  },
  {
   "cell_type": "code",
   "execution_count": null,
   "id": "8015aa0c",
   "metadata": {},
   "outputs": [],
   "source": [
    "# on peut supprimer cette clé\n",
    "del dict1[\"cle4\"]\n"
   ]
  },
  {
   "cell_type": "code",
   "execution_count": null,
   "id": "f3c26523",
   "metadata": {},
   "outputs": [],
   "source": [
    "# on peut aussi utiliser la fonction dict :\n",
    "dict2=dict(cle1=\"valeur1\",cle2=\"valeur2\")\n",
    "dict2"
   ]
  },
  {
   "cell_type": "code",
   "execution_count": null,
   "id": "92921139",
   "metadata": {},
   "outputs": [],
   "source": [
    "dict2[\"cle1\"]"
   ]
  },
  {
   "cell_type": "markdown",
   "id": "813a9a8a",
   "metadata": {},
   "source": [
    " ## Conditions"
   ]
  },
  {
   "cell_type": "code",
   "execution_count": null,
   "id": "322415b3",
   "metadata": {},
   "outputs": [],
   "source": [
    "# on définit a\n",
    "a=True\n",
    "\n",
    "\n",
    "if a is True :\n",
    "    print(\"c'est vrai\") # première condition\n",
    "else :\n",
    "    print(\"ce n'est pas vrai\") # on ajoute une alternative"
   ]
  },
  {
   "cell_type": "code",
   "execution_count": null,
   "id": "44748ef6",
   "metadata": {},
   "outputs": [],
   "source": [
    "# on ajoute un elif\n",
    "if a is True :\n",
    "    print(\"c'est vrai\")\n",
    "elif a is False :\n",
    "    print(\"c'est faux\")\n",
    "else :\n",
    "    print(\"ce n'est pas un booléen\")"
   ]
  },
  {
   "cell_type": "markdown",
   "id": "45159e59",
   "metadata": {},
   "source": [
    "**Opérateurs de comparaison**"
   ]
  },
  {
   "cell_type": "code",
   "execution_count": null,
   "id": "cc087a2d",
   "metadata": {},
   "outputs": [],
   "source": [
    "# True est égal à 1\n",
    "True == 1"
   ]
  },
  {
   "cell_type": "code",
   "execution_count": null,
   "id": "e0edaada",
   "metadata": {},
   "outputs": [],
   "source": [
    "# False est égal à 0\n",
    "False == 0"
   ]
  },
  {
   "cell_type": "code",
   "execution_count": null,
   "id": "a0a62f00",
   "metadata": {},
   "outputs": [],
   "source": [
    "# mais True n'est pas 1 (objet différent)\n",
    "True is 1"
   ]
  },
  {
   "cell_type": "code",
   "execution_count": null,
   "id": "0e7304c9",
   "metadata": {},
   "outputs": [],
   "source": [
    "# en comparaisons True est plus grand que False (1>0)\n",
    "True > False"
   ]
  },
  {
   "cell_type": "code",
   "execution_count": null,
   "id": "5132071a",
   "metadata": {},
   "outputs": [],
   "source": [
    "# pour des chaînes de caractères, l’ordre alphabétique prime\n",
    "\"Python\" > \"Java\""
   ]
  },
  {
   "cell_type": "code",
   "execution_count": null,
   "id": "988a4ffd",
   "metadata": {},
   "outputs": [],
   "source": [
    "\"Java\"< \"C\""
   ]
  },
  {
   "cell_type": "markdown",
   "id": "e4fa5606",
   "metadata": {},
   "source": [
    "## Les boucles"
   ]
  },
  {
   "cell_type": "markdown",
   "id": "57662d4f",
   "metadata": {},
   "source": [
    "**La boucle for**"
   ]
  },
  {
   "cell_type": "code",
   "execution_count": null,
   "id": "63499e90",
   "metadata": {},
   "outputs": [],
   "source": [
    "for elem in [1, 2]:\n",
    "    print(elem)"
   ]
  },
  {
   "cell_type": "code",
   "execution_count": null,
   "id": "176e6c7e",
   "metadata": {},
   "outputs": [],
   "source": [
    "print(list(range(2,15,2)))"
   ]
  },
  {
   "cell_type": "code",
   "execution_count": null,
   "id": "ca2dee0b",
   "metadata": {},
   "outputs": [],
   "source": [
    "for i in range(11) :\n",
    "    print(i,end=\"--\")"
   ]
  },
  {
   "cell_type": "markdown",
   "id": "6d6c6b8c",
   "metadata": {},
   "source": [
    "Attention, la dernière valeur est toujours exclue !"
   ]
  },
  {
   "cell_type": "markdown",
   "id": "c29ad707",
   "metadata": {},
   "source": [
    "La fonction *enumerate()* permet de générer un indice en plus de la valeur de l'élement :"
   ]
  },
  {
   "cell_type": "code",
   "execution_count": null,
   "id": "8f483db9",
   "metadata": {},
   "outputs": [],
   "source": [
    "for i, a in enumerate(liste_pays) :\n",
    "    print(i, a)"
   ]
  },
  {
   "cell_type": "code",
   "execution_count": null,
   "id": "38653d12",
   "metadata": {},
   "outputs": [],
   "source": []
  },
  {
   "cell_type": "markdown",
   "id": "5d0d1f8a",
   "metadata": {},
   "source": [
    "La fonction zip permet de joindre deux listes et de les parcourir \"en parallèle\""
   ]
  },
  {
   "cell_type": "code",
   "execution_count": null,
   "id": "0e042db1",
   "metadata": {},
   "outputs": [],
   "source": [
    "for jour, meteo in zip([\"lundi\",\"mardi\"],[\"beau\",\"mauvais\"]) :\n",
    "    print(f\"{jour.capitalize()}, il fera {meteo}\")"
   ]
  },
  {
   "cell_type": "code",
   "execution_count": null,
   "id": "9c4fcba9",
   "metadata": {},
   "outputs": [],
   "source": [
    "for i, (jour, meteo) in enumerate(zip([\"lundi\",\"mardi\"],[\"beau\",\"mauvais\"])) :\n",
    "    print(f\"{i} : {jour.capitalize()}, il fera {meteo}\")"
   ]
  },
  {
   "cell_type": "markdown",
   "id": "22020e63",
   "metadata": {},
   "source": [
    "**La boucle While**"
   ]
  },
  {
   "cell_type": "code",
   "execution_count": null,
   "id": "88cb82bd",
   "metadata": {},
   "outputs": [],
   "source": [
    "i=1\n",
    "val_stop=50\n",
    "while i<100 :\n",
    "    i+=1\n",
    "    if i>val_stop :\n",
    "        break\n",
    "print(i)"
   ]
  },
  {
   "cell_type": "markdown",
   "id": "0bbb32f8",
   "metadata": {},
   "source": [
    "## Les fonctions"
   ]
  },
  {
   "cell_type": "code",
   "execution_count": null,
   "id": "ca1b606c",
   "metadata": {},
   "outputs": [],
   "source": [
    "def ma_fonc(a,b) :\n",
    "    print(a+b)"
   ]
  },
  {
   "cell_type": "code",
   "execution_count": null,
   "id": "3d26a449",
   "metadata": {},
   "outputs": [],
   "source": [
    "# on a différentes approches pour appeler une fonction\n",
    "ma_fonc(a=4, b=6)\n",
    "ma_fonc(4,6)\n",
    "ma_fonc(b=6, a=4)"
   ]
  },
  {
   "cell_type": "markdown",
   "id": "2aade518",
   "metadata": {},
   "source": [
    "**Les valeurs par défaut des paramètres** \\\n",
    "On peut définir des valeurs par défaut, ici on fixe b=6. Si b est renseigné dans l'appel, il prend la valeur renseignée, sinon il prend la valeur par défaut."
   ]
  },
  {
   "cell_type": "code",
   "execution_count": null,
   "id": "ca4aa183",
   "metadata": {},
   "outputs": [],
   "source": [
    "def ma_fonc_b(a, b=6) :\n",
    "    print(a+b)"
   ]
  },
  {
   "cell_type": "code",
   "execution_count": null,
   "id": "8cf2768d",
   "metadata": {},
   "outputs": [],
   "source": [
    "ma_fonc_b(2,5)\n",
    "ma_fonc_b(2)"
   ]
  },
  {
   "cell_type": "code",
   "execution_count": null,
   "id": "231fcb44",
   "metadata": {},
   "outputs": [],
   "source": [
    "def ma_fonc2(a, b=6, c=5, d=10) :\n",
    "    print(a+b+c+d)"
   ]
  },
  {
   "cell_type": "code",
   "execution_count": null,
   "id": "25b0ae06",
   "metadata": {},
   "outputs": [],
   "source": [
    "ma_fonc2(2, c=3)\n",
    "ma_fonc2(2, d=1)"
   ]
  },
  {
   "cell_type": "markdown",
   "id": "db85b307",
   "metadata": {},
   "source": [
    "### L'utlisation de *args et **kwargs dans un appel de fonctions"
   ]
  },
  {
   "cell_type": "markdown",
   "id": "cd7ca6ee",
   "metadata": {},
   "source": [
    "Ceci va permettre d'avoir un nombre indéfini de paramètres dans l'appel de la fonctions. \n",
    "\n",
    "*args est associé à une liste et **kwargs à un dictionnaire (c'est les * qui comptent et non les noms des arguents)"
   ]
  },
  {
   "cell_type": "code",
   "execution_count": null,
   "id": "662b29a9",
   "metadata": {},
   "outputs": [],
   "source": [
    "def ma_fonc3(param_obligatoire,*args,**kwargs) :\n",
    "    print(\"Argument obligatoire :\", param_obligatoire)\n",
    "    # si on a des arguments positionnés après les arguments obligatoires\n",
    "    # on les affiche\n",
    "    if args :\n",
    "        for val in args :\n",
    "            print(\"Argument dans args : \", val)\n",
    "    # si on a des arguments du type arg1 =… situé après les arguments\n",
    "    # obligatoires, on les affiche\n",
    "    if kwargs :\n",
    "        for key, val in kwargs.items() :\n",
    "             print(\"Nom de l’argument et valeur dans kwargs\", key, val,sep=\": \")"
   ]
  },
  {
   "cell_type": "code",
   "execution_count": null,
   "id": "1d66775d",
   "metadata": {},
   "outputs": [],
   "source": [
    "ma_fonc3(\"DATA\",\"Science\",\"Python\", option=\"mon_option\")"
   ]
  },
  {
   "cell_type": "code",
   "execution_count": null,
   "id": "b89a8ed2",
   "metadata": {},
   "outputs": [],
   "source": [
    "ma_fonc3(\"DATA\", autre_option=\"mon_option\")"
   ]
  },
  {
   "cell_type": "markdown",
   "id": "04748b3a",
   "metadata": {},
   "source": [
    "### Les docstrings"
   ]
  },
  {
   "cell_type": "markdown",
   "id": "a831a1cc",
   "metadata": {},
   "source": [
    "Les docstrings consistent en des descriptions des fonctions, des classes ou des modules que l'on définit en utilisant \"\"\" \"\"\" dans la ligne suivant la définition de la fonction / classe / module :"
   ]
  },
  {
   "cell_type": "code",
   "execution_count": null,
   "id": "cf890d4f",
   "metadata": {},
   "outputs": [],
   "source": [
    "def ma_fonction(*args):\n",
    "    \"\"\"Cette fonction calcule la somme des paramètres\"\"\"\n",
    "    if args:\n",
    "        return sum(args)\n",
    "    else:\n",
    "        return None"
   ]
  },
  {
   "cell_type": "code",
   "execution_count": null,
   "id": "32a63347",
   "metadata": {},
   "outputs": [],
   "source": [
    "help(ma_fonction)"
   ]
  },
  {
   "cell_type": "markdown",
   "id": "98ca6ab4",
   "metadata": {},
   "source": [
    "### Les retours multiples"
   ]
  },
  {
   "cell_type": "code",
   "execution_count": null,
   "id": "a6671646",
   "metadata": {},
   "outputs": [],
   "source": [
    "def ma_fonc(a, b) :\n",
    "    return a+b, a-b"
   ]
  },
  {
   "cell_type": "markdown",
   "id": "5be3e052",
   "metadata": {},
   "source": [
    "ces différents éléments sont soit stockés dans un tuple, soit associé à différents objets."
   ]
  },
  {
   "cell_type": "code",
   "execution_count": null,
   "id": "8358f367",
   "metadata": {},
   "outputs": [],
   "source": [
    "tu1=ma_fonc(2,5)\n",
    "print(tu1)\n",
    "val1, val2=ma_fonc(2,5)\n",
    "print(val1, val2)"
   ]
  },
  {
   "cell_type": "markdown",
   "id": "2ff2ef93",
   "metadata": {},
   "source": [
    " ### Les fonctions lambdas"
   ]
  },
  {
   "cell_type": "code",
   "execution_count": null,
   "id": "59d39b67",
   "metadata": {},
   "outputs": [],
   "source": [
    "ma_chaine=\"Python pour le data scientist\"\n",
    "(lambda chaine : chaine.upper().split())(ma_chaine)"
   ]
  },
  {
   "cell_type": "code",
   "execution_count": null,
   "id": "e61b906f",
   "metadata": {},
   "outputs": [],
   "source": [
    "ma_liste = [1, 6, 8, 3, 12]\n",
    "nouvelle_liste = list(filter(lambda x: (x >= 6), ma_liste))\n",
    "print(nouvelle_liste)"
   ]
  },
  {
   "cell_type": "markdown",
   "id": "6e3ed8fc",
   "metadata": {},
   "source": [
    "### Les classes"
   ]
  },
  {
   "cell_type": "markdown",
   "id": "0ad948e4",
   "metadata": {},
   "source": [
    "**Comment reconnaître une classe**"
   ]
  },
  {
   "cell_type": "markdown",
   "id": "d024cbd6",
   "metadata": {},
   "source": [
    "On reconnaît une classe car, en principe, elle s'écrit avec des majuscule et sans séparateurs.\n",
    "\n",
    "On aura : KMeans() est une classe"
   ]
  },
  {
   "cell_type": "markdown",
   "id": "222b8af0",
   "metadata": {},
   "source": [
    "**Définir une classe**"
   ]
  },
  {
   "cell_type": "markdown",
   "id": "e3c7a438",
   "metadata": {},
   "source": [
    "On définit simplement des classes en Python"
   ]
  },
  {
   "cell_type": "code",
   "execution_count": null,
   "id": "5ffc0d21",
   "metadata": {},
   "outputs": [],
   "source": [
    "class MonImage:\n",
    "    def __init__(self, resolution = 300, source = \"./\", taille= 500) :\n",
    "        self.resolution = resolution\n",
    "        self.source = source\n",
    "        self.taille = taille"
   ]
  },
  {
   "cell_type": "code",
   "execution_count": null,
   "id": "59af5c3a",
   "metadata": {},
   "outputs": [],
   "source": [
    "# on crée un objet de la classe qu'on a créé plus haut\n",
    "image_1 = MonImage(source=\"../other/python-pour-le-data-scientist-dunod.jpeg\",\n",
    "                  taille=500)"
   ]
  },
  {
   "cell_type": "markdown",
   "id": "f70516b0",
   "metadata": {},
   "source": [
    "En plus du constructeur __init__(), on va ajouter des méthodes :"
   ]
  },
  {
   "cell_type": "code",
   "execution_count": null,
   "id": "8f16f4d6",
   "metadata": {},
   "outputs": [],
   "source": [
    "class MonImage:\n",
    "    def __init__(self, resolution = 300, source = \"./\", taille= 500) :\n",
    "        self.resolution=resolution\n",
    "        self.source=source\n",
    "        self.taille=taille\n",
    "\n",
    "    def affiche_caract(self):\n",
    "        print(\"Résolution:\", self.resolution)\n",
    "        print(\"Taille:\", self.taille)\n",
    "        print(\"Source:\", self.source)\n",
    "\n",
    "    def agrandir_image(self, facteur) :\n",
    "        self.taille*= facteur"
   ]
  },
  {
   "cell_type": "code",
   "execution_count": null,
   "id": "377f5f71",
   "metadata": {},
   "outputs": [],
   "source": [
    "# on applique une méthode sur notre objet\n",
    "image_1 = MonImage(source=\"../other/python-pour-le-data-scientist-dunod.jpeg\",\n",
    "                  taille=500)\n",
    "image_1.agrandir_image(2)\n",
    "print(image_1.taille)"
   ]
  },
  {
   "cell_type": "markdown",
   "id": "fcc39760",
   "metadata": {},
   "source": [
    "Je vous conseille fortement d'approfondir la notion de classe, centrale dans la programmation orientée objet de Python.\n",
    "\n",
    "La notion d'héritage est extrêmement importante et vous servira dès que vous serez un développeur plus aguérri.\n",
    "\n",
    "De nombreuses références sont disponibles sur le web et à la fin de l'ouvrage."
   ]
  },
  {
   "cell_type": "markdown",
   "id": "13dcbcd5",
   "metadata": {},
   "source": [
    "## Les modules et les packages"
   ]
  },
  {
   "cell_type": "markdown",
   "id": "dd89eddf",
   "metadata": {},
   "source": [
    "On peut importer simplement des packages dans un notebook ou dans un script"
   ]
  },
  {
   "cell_type": "code",
   "execution_count": null,
   "id": "e4197aaf",
   "metadata": {},
   "outputs": [],
   "source": [
    "import datetime"
   ]
  },
  {
   "cell_type": "code",
   "execution_count": null,
   "id": "a88c2b1b",
   "metadata": {},
   "outputs": [],
   "source": [
    "print(datetime.date.today())"
   ]
  },
  {
   "cell_type": "markdown",
   "id": "cd9492d7",
   "metadata": {},
   "source": [
    "On donne souvent des noms courts aux packages "
   ]
  },
  {
   "cell_type": "code",
   "execution_count": null,
   "id": "9047570a",
   "metadata": {},
   "outputs": [],
   "source": [
    "import numpy as np"
   ]
  },
  {
   "cell_type": "code",
   "execution_count": null,
   "id": "d44a3310",
   "metadata": {},
   "outputs": [],
   "source": [
    "print(np.random.random(1))"
   ]
  },
  {
   "cell_type": "markdown",
   "id": "48d7b422",
   "metadata": {},
   "source": [
    "On peut aussi importer une classe ou une fonction spécifiquement :"
   ]
  },
  {
   "cell_type": "code",
   "execution_count": null,
   "id": "4eae7e64",
   "metadata": {},
   "outputs": [],
   "source": [
    "from pandas import DataFrame"
   ]
  },
  {
   "cell_type": "markdown",
   "id": "30646cac",
   "metadata": {},
   "source": [
    "### La gestion d'exceptions"
   ]
  },
  {
   "cell_type": "markdown",
   "id": "29547a90",
   "metadata": {},
   "source": [
    "Il est souvent nécessaire de gérer les erreurs qui peuvent être présentes dans un programme."
   ]
  },
  {
   "cell_type": "code",
   "execution_count": null,
   "id": "9de5d263",
   "metadata": {},
   "outputs": [],
   "source": [
    "def rapport(x, y) :\n",
    "    try:\n",
    "        return x/y\n",
    "    except ZeroDivisionError :\n",
    "        print(\"Division par zéro\")\n",
    "        return None\n",
    "    except TypeError :\n",
    "        print(\"Le type entré ne correspond pas\")\n",
    "        return None"
   ]
  },
  {
   "cell_type": "code",
   "execution_count": null,
   "id": "514a22ad",
   "metadata": {},
   "outputs": [],
   "source": [
    "def rapport2(x, y) :\n",
    "    try:\n",
    "        resultat = x/y\n",
    "    except ZeroDivisionError:\n",
    "        print(\"Division par zéro\")\n",
    "    else:\n",
    "        print(\"Le résultat est %.2f\" %(resultat))\n",
    "    finally:\n",
    "        print(\"Le calcul est terminé\")"
   ]
  },
  {
   "cell_type": "code",
   "execution_count": null,
   "id": "ed6d0e33",
   "metadata": {},
   "outputs": [],
   "source": [
    "rapport2(1,2)"
   ]
  },
  {
   "cell_type": "code",
   "execution_count": null,
   "id": "dad17ea8",
   "metadata": {},
   "outputs": [],
   "source": [
    "rapport2(1,0)"
   ]
  },
  {
   "cell_type": "markdown",
   "id": "6857dc44",
   "metadata": {},
   "source": [
    "Dans ce cas, l'erreur est affiché mais le programme execute quand même ce qui se trouve après finally"
   ]
  },
  {
   "cell_type": "code",
   "execution_count": null,
   "id": "80806c9a",
   "metadata": {},
   "outputs": [],
   "source": [
    "rapport2(\"&\", 3)"
   ]
  },
  {
   "cell_type": "markdown",
   "id": "08cb5e05",
   "metadata": {},
   "source": [
    " ### Les expressions régulières"
   ]
  },
  {
   "cell_type": "markdown",
   "id": "dcb18cd1",
   "metadata": {},
   "source": [
    "Python possède un module re qui permet de travailler sur des chaînes de caractères en utilisant des expressions réguières.\n",
    "\n",
    "Ce code illustre un cas où l'on chercherait à tester la présence d'une adresse email :"
   ]
  },
  {
   "cell_type": "code",
   "execution_count": null,
   "id": "6e29e8db",
   "metadata": {},
   "outputs": [],
   "source": [
    "import re\n",
    "chaine = \"info@stat4decision.com\"\n",
    "# on vérifie qu'il y a bien le signe @ et on vérifie que l'adresse se termine\n",
    "# oar .fr ou .com\n",
    "regexp = \"(^[a-z0-9._-]+@[a-z0-9._-]+\\.[(com|fr)]+)\"\n",
    "if re.match(regexp, chaine) is not None :\n",
    "    print(\"Vrai\")\n",
    "else:\n",
    "    print(\"Faux\")"
   ]
  },
  {
   "cell_type": "markdown",
   "id": "943f7464",
   "metadata": {},
   "source": [
    "### Les décorateurs"
   ]
  },
  {
   "cell_type": "markdown",
   "id": "5685d7f1",
   "metadata": {},
   "source": [
    "Il s'agit d'utiliser des fonctions de fonctions. Vous pouvez consulter l'ouvrage pour plus de détails."
   ]
  },
  {
   "cell_type": "code",
   "execution_count": null,
   "id": "eeec52ba",
   "metadata": {},
   "outputs": [],
   "source": [
    "def bonjour() :\n",
    "    return \"Bonjour !\"\n",
    "\n",
    "def bonjour_aurevoir(fonction) :\n",
    "    print(fonction(), \"Au revoir !\", sep=\"\\n\")\n",
    "\n",
    "bonjour_aurevoir(bonjour)"
   ]
  },
  {
   "cell_type": "code",
   "execution_count": null,
   "id": "692b2b05",
   "metadata": {},
   "outputs": [],
   "source": [
    "# on définit le décorateur - vérification du nom d’utilisateur\n",
    "def test_utilisateur(fonction) :\n",
    "    def verif_utilisateur(*args) :\n",
    "        if args[0]==\"Emmanuel\" :\n",
    "            fonction(*args)\n",
    "        else :\n",
    "            print(\"Mauvais utilisateur\")\n",
    "    return verif_utilisateur"
   ]
  },
  {
   "cell_type": "code",
   "execution_count": null,
   "id": "54000302",
   "metadata": {},
   "outputs": [],
   "source": [
    "# on définit un mauvais utilisateur avec le bon password\n",
    "utilisateur=\"Paul\"\n",
    "password_emmanuel=\"Python\""
   ]
  },
  {
   "cell_type": "code",
   "execution_count": null,
   "id": "8da600da",
   "metadata": {},
   "outputs": [],
   "source": [
    "# on définit la fonction affiche_mot_de_passe qui affiche le mot de\n",
    "# passe que si l’utilisateur est Emmanuel en utilisant le décorateur\n",
    "@test_utilisateur\n",
    "def afficher_mot_de_passe(utilisateur) :\n",
    "    print(\"Mon mot de passe est % s\" %(password_emmanuel))"
   ]
  },
  {
   "cell_type": "code",
   "execution_count": null,
   "id": "a554416a",
   "metadata": {},
   "outputs": [],
   "source": [
    "# on appelle la fonction décorée\n",
    "afficher_mot_de_passe(utilisateur)"
   ]
  },
  {
   "cell_type": "code",
   "execution_count": null,
   "id": "dd0712a5",
   "metadata": {},
   "outputs": [],
   "source": [
    "# on change d’utilisateur\n",
    "utilisateur=\"Emmanuel\"\n",
    "afficher_mot_de_passe(utilisateur)"
   ]
  },
  {
   "cell_type": "code",
   "execution_count": null,
   "id": "9489e0f0",
   "metadata": {},
   "outputs": [],
   "source": []
  },
  {
   "cell_type": "code",
   "execution_count": null,
   "id": "7465930d",
   "metadata": {},
   "outputs": [],
   "source": []
  },
  {
   "cell_type": "code",
   "execution_count": 50,
   "id": "b7828b60",
   "metadata": {},
   "outputs": [],
   "source": [
    "import numpy as np"
   ]
  },
  {
   "cell_type": "code",
   "execution_count": null,
   "id": "71974f7b",
   "metadata": {},
   "outputs": [],
   "source": [
    "np.array([1,4,7,9])\n"
   ]
  },
  {
   "cell_type": "code",
   "execution_count": null,
   "id": "b5dfafbf",
   "metadata": {},
   "outputs": [],
   "source": []
  },
  {
   "cell_type": "code",
   "execution_count": null,
   "id": "ade09e22",
   "metadata": {},
   "outputs": [],
   "source": []
  },
  {
   "cell_type": "code",
   "execution_count": null,
   "id": "b547f618",
   "metadata": {},
   "outputs": [],
   "source": []
  },
  {
   "cell_type": "code",
   "execution_count": null,
   "id": "73cc0eea",
   "metadata": {},
   "outputs": [],
   "source": [
    "np.random.randn(5)"
   ]
  },
  {
   "cell_type": "code",
   "execution_count": null,
   "id": "0045e94e",
   "metadata": {},
   "outputs": [],
   "source": [
    "from pandas import Series"
   ]
  },
  {
   "cell_type": "code",
   "execution_count": null,
   "id": "8dd71715",
   "metadata": {},
   "outputs": [],
   "source": [
    "ma_serie3= Series(np.random.randn(5),index=[\"A\",\"B\",\"C\",\"D\",\"E\"])\n",
    "ma_serie4=Series(np.random.randn(4), index=[\"A\",\"B\",\"C\",\"F\"])\n",
    "ma_serie3+ma_serie4"
   ]
  },
  {
   "cell_type": "code",
   "execution_count": null,
   "id": "32e11534",
   "metadata": {},
   "outputs": [],
   "source": [
    "ma_serie3.add(ma_serie4, fill_value=0)"
   ]
  },
  {
   "cell_type": "code",
   "execution_count": 45,
   "id": "296ac37e",
   "metadata": {},
   "outputs": [],
   "source": [
    "import pandas as pd"
   ]
  },
  {
   "cell_type": "code",
   "execution_count": null,
   "id": "8605df1a",
   "metadata": {},
   "outputs": [],
   "source": [
    "frame_list=pd.DataFrame([[2,4,6,7],[3,5,5,9]])\n",
    "frame_list"
   ]
  },
  {
   "cell_type": "code",
   "execution_count": 46,
   "id": "77bac60f",
   "metadata": {},
   "outputs": [],
   "source": [
    "dico1={\"RS\" :[\"Facebook\",\"Twitter\",\"Instagram\",\"Linkedin\",\"Snapchat\"],\n",
    "       \"Budget\" :[100,50,20,100,50],\"Audience\" :[1000,300,400,50,200]}"
   ]
  },
  {
   "cell_type": "code",
   "execution_count": null,
   "id": "81c5e7c6",
   "metadata": {},
   "outputs": [],
   "source": [
    "dico1"
   ]
  },
  {
   "cell_type": "code",
   "execution_count": 48,
   "id": "425f1841",
   "metadata": {},
   "outputs": [
    {
     "data": {
      "text/plain": [
       "0     Facebook\n",
       "1      Twitter\n",
       "2    Instagram\n",
       "3     Linkedin\n",
       "4     Snapchat\n",
       "Name: RS, dtype: object"
      ]
     },
     "execution_count": 48,
     "metadata": {},
     "output_type": "execute_result"
    }
   ],
   "source": [
    "frame_dico=pd.DataFrame(dico1)\n",
    "frame_dico['RS']"
   ]
  },
  {
   "cell_type": "code",
   "execution_count": 51,
   "id": "8e9f11bb",
   "metadata": {
    "scrolled": true
   },
   "outputs": [
    {
     "data": {
      "text/html": [
       "<div>\n",
       "<style scoped>\n",
       "    .dataframe tbody tr th:only-of-type {\n",
       "        vertical-align: middle;\n",
       "    }\n",
       "\n",
       "    .dataframe tbody tr th {\n",
       "        vertical-align: top;\n",
       "    }\n",
       "\n",
       "    .dataframe thead th {\n",
       "        text-align: right;\n",
       "    }\n",
       "</style>\n",
       "<table border=\"1\" class=\"dataframe\">\n",
       "  <thead>\n",
       "    <tr style=\"text-align: right;\">\n",
       "      <th></th>\n",
       "      <th>A</th>\n",
       "      <th>B</th>\n",
       "      <th>C</th>\n",
       "      <th>D</th>\n",
       "      <th>E</th>\n",
       "    </tr>\n",
       "  </thead>\n",
       "  <tbody>\n",
       "    <tr>\n",
       "      <th>Obs_1</th>\n",
       "      <td>0</td>\n",
       "      <td>1</td>\n",
       "      <td>2</td>\n",
       "      <td>3</td>\n",
       "      <td>4</td>\n",
       "    </tr>\n",
       "    <tr>\n",
       "      <th>Obs_2</th>\n",
       "      <td>5</td>\n",
       "      <td>6</td>\n",
       "      <td>7</td>\n",
       "      <td>8</td>\n",
       "      <td>9</td>\n",
       "    </tr>\n",
       "    <tr>\n",
       "      <th>Obs_3</th>\n",
       "      <td>10</td>\n",
       "      <td>11</td>\n",
       "      <td>12</td>\n",
       "      <td>13</td>\n",
       "      <td>14</td>\n",
       "    </tr>\n",
       "    <tr>\n",
       "      <th>Obs_4</th>\n",
       "      <td>15</td>\n",
       "      <td>16</td>\n",
       "      <td>17</td>\n",
       "      <td>18</td>\n",
       "      <td>19</td>\n",
       "    </tr>\n",
       "    <tr>\n",
       "      <th>Obs_5</th>\n",
       "      <td>20</td>\n",
       "      <td>21</td>\n",
       "      <td>22</td>\n",
       "      <td>23</td>\n",
       "      <td>24</td>\n",
       "    </tr>\n",
       "  </tbody>\n",
       "</table>\n",
       "</div>"
      ],
      "text/plain": [
       "        A   B   C   D   E\n",
       "Obs_1   0   1   2   3   4\n",
       "Obs_2   5   6   7   8   9\n",
       "Obs_3  10  11  12  13  14\n",
       "Obs_4  15  16  17  18  19\n",
       "Obs_5  20  21  22  23  24"
      ]
     },
     "execution_count": 51,
     "metadata": {},
     "output_type": "execute_result"
    }
   ],
   "source": [
    "arr_mult=np.arange(100).reshape(20,5)\n",
    "frame_mult=pd.DataFrame(arr_mult[:5,:],columns=[\"A\",\"B\",\"C\",\"D\",\"E\"],\n",
    "                        index=[\"Obs_\" + str(i+1) for i in range(5)])\n",
    "frame_mult"
   ]
  },
  {
   "cell_type": "code",
   "execution_count": null,
   "id": "2560c066",
   "metadata": {},
   "outputs": [],
   "source": [
    "frame_mult.loc[[\"Obs_2\",\"Obs_3\"],[\"A\",\"B\"]]"
   ]
  },
  {
   "cell_type": "code",
   "execution_count": 55,
   "id": "208beb6f",
   "metadata": {},
   "outputs": [
    {
     "data": {
      "text/html": [
       "<div>\n",
       "<style scoped>\n",
       "    .dataframe tbody tr th:only-of-type {\n",
       "        vertical-align: middle;\n",
       "    }\n",
       "\n",
       "    .dataframe tbody tr th {\n",
       "        vertical-align: top;\n",
       "    }\n",
       "\n",
       "    .dataframe thead th {\n",
       "        text-align: right;\n",
       "    }\n",
       "</style>\n",
       "<table border=\"1\" class=\"dataframe\">\n",
       "  <thead>\n",
       "    <tr style=\"text-align: right;\">\n",
       "      <th></th>\n",
       "      <th>A</th>\n",
       "      <th>B</th>\n",
       "    </tr>\n",
       "  </thead>\n",
       "  <tbody>\n",
       "    <tr>\n",
       "      <th>Obs_2</th>\n",
       "      <td>5</td>\n",
       "      <td>6</td>\n",
       "    </tr>\n",
       "    <tr>\n",
       "      <th>Obs_3</th>\n",
       "      <td>10</td>\n",
       "      <td>11</td>\n",
       "    </tr>\n",
       "  </tbody>\n",
       "</table>\n",
       "</div>"
      ],
      "text/plain": [
       "        A   B\n",
       "Obs_2   5   6\n",
       "Obs_3  10  11"
      ]
     },
     "execution_count": 55,
     "metadata": {},
     "output_type": "execute_result"
    }
   ],
   "source": [
    " frame_mult.iloc[1 :3, :2]"
   ]
  },
  {
   "cell_type": "code",
   "execution_count": null,
   "id": "8f247b96",
   "metadata": {},
   "outputs": [],
   "source": [
    "# extraire une colonne avec :\n",
    "frame_mult[\"A\"]"
   ]
  },
  {
   "cell_type": "code",
   "execution_count": null,
   "id": "c8a64051",
   "metadata": {},
   "outputs": [],
   "source": [
    "# construire de nouvelles colonne\n",
    "frame_mult[\"F\"]=frame_mult[\"A\"]*2"
   ]
  },
  {
   "cell_type": "code",
   "execution_count": null,
   "id": "1907b551",
   "metadata": {},
   "outputs": [],
   "source": [
    "\n",
    "# on supprime la colonne\n",
    "del frame_mult[\"F\"]"
   ]
  },
  {
   "cell_type": "code",
   "execution_count": null,
   "id": "e66f861f",
   "metadata": {},
   "outputs": [],
   "source": [
    "# on peut insérer une colonne à un point précis dans le DataFrame\n",
    "frame_mult.insert(0,\"F\",frame_mult[\"A\"]*2)"
   ]
  },
  {
   "cell_type": "code",
   "execution_count": null,
   "id": "1eb34e7c",
   "metadata": {},
   "outputs": [],
   "source": [
    "frame_mult"
   ]
  },
  {
   "cell_type": "code",
   "execution_count": null,
   "id": "bc07e7af",
   "metadata": {},
   "outputs": [],
   "source": [
    "#On extrait une ligne par son index en utilisant\n",
    "frame_mult.loc[\"Obs_4\"]"
   ]
  },
  {
   "cell_type": "code",
   "execution_count": null,
   "id": "516d87c1",
   "metadata": {},
   "outputs": [],
   "source": [
    "# On extrait une ligne par sa position en utilisant\n",
    "\n",
    "frame_mult.iloc[3]"
   ]
  },
  {
   "cell_type": "code",
   "execution_count": null,
   "id": "7639b255",
   "metadata": {},
   "outputs": [],
   "source": [
    "frame_mult.loc[[\"Obs_2\",\"Obs_3\"],[\"A\",\"B\"]]"
   ]
  },
  {
   "cell_type": "code",
   "execution_count": null,
   "id": "2cd1f9d3",
   "metadata": {},
   "outputs": [],
   "source": [
    "frame_mult.iloc[1:3,:2]"
   ]
  },
  {
   "cell_type": "code",
   "execution_count": null,
   "id": "b3edc121",
   "metadata": {},
   "outputs": [],
   "source": [
    "array_vec=np.arange(10)\n",
    "array_vec.shape=(5,2)\n",
    "array_vec"
   ]
  },
  {
   "cell_type": "code",
   "execution_count": null,
   "id": "af8a2625",
   "metadata": {},
   "outputs": [],
   "source": [
    "\n",
    "# Réindexation d'un DataFrame\n",
    "frame_vec =pd.DataFrame(array_vec,index=[\"a\",\"b\",\"c\",\"d\",\"e\"],columns=[\"A\",\"B\"])\n"
   ]
  },
  {
   "cell_type": "code",
   "execution_count": null,
   "id": "85c970e2",
   "metadata": {},
   "outputs": [],
   "source": [
    "frame_vec"
   ]
  },
  {
   "cell_type": "code",
   "execution_count": null,
   "id": "e476c3f3",
   "metadata": {},
   "outputs": [],
   "source": [
    "frame_vec.reindex(index=[\"e\",\"c\",\"d\"], columns=[\"B\",\"A\"])"
   ]
  },
  {
   "cell_type": "code",
   "execution_count": null,
   "id": "0234dd4d",
   "metadata": {},
   "outputs": [],
   "source": [
    "# On peut réindexer le DataFrame en utilisant des fonctions lambda :\n",
    "frame_vec2=frame_vec.rename(mapper=lambda x : \"Obs. \"+x.upper(),axis=0)\n",
    "frame_vec2=frame_vec2.rename(mapper=lambda x : \"Var. \"+x.upper(), axis=1)"
   ]
  },
  {
   "cell_type": "code",
   "execution_count": null,
   "id": "aa637d66",
   "metadata": {},
   "outputs": [],
   "source": [
    "frame_vec2"
   ]
  },
  {
   "cell_type": "code",
   "execution_count": null,
   "id": "68ecb159",
   "metadata": {},
   "outputs": [],
   "source": [
    "# renommer les colonnes et les index avec des dictionnaires\n",
    "frame_vec.rename(columns={\"A\" :\"nouveau_A\"}, index={\"a\" :\"nouveau_a\"})"
   ]
  },
  {
   "cell_type": "code",
   "execution_count": null,
   "id": "e35b2839",
   "metadata": {},
   "outputs": [],
   "source": [
    "#Import du fichier complet\n",
    "listing=pd.read_csv(\"https://www.stat4decision.com/listings.csv.gz\", index_col=0)"
   ]
  },
  {
   "cell_type": "code",
   "execution_count": null,
   "id": "4364d1c5",
   "metadata": {},
   "outputs": [],
   "source": [
    "conda install -c conda-forge jupyterlab"
   ]
  },
  {
   "cell_type": "markdown",
   "id": "0d25b669",
   "metadata": {},
   "source": [
    "# Création de graphiques financiers avancés avec Python en une seule ligne de code"
   ]
  },
  {
   "cell_type": "markdown",
   "id": "9dae1e87",
   "metadata": {},
   "source": [
    "l'interprétation et la visualisation des données de stock historiques ou en temps réel.\n",
    "\n",
    " pour visualiser des données générales en python, des modules comme matplotlib, seaborn, etc. entrent en jeu mais, lorsqu'il s'agit de visualiser des données financières, **Plotly** et  **mplfinance** serait la solution idéale car il fournit des fonctions intégrées avec des visuels interactifs."
   ]
  },
  {
   "cell_type": "markdown",
   "id": "605f9e56",
   "metadata": {},
   "source": [
    "## Importation de packages"
   ]
  },
  {
   "cell_type": "code",
   "execution_count": 56,
   "id": "9a6e30b1",
   "metadata": {},
   "outputs": [
    {
     "ename": "SyntaxError",
     "evalue": "invalid syntax (1117358391.py, line 1)",
     "output_type": "error",
     "traceback": [
      "\u001b[1;36m  Cell \u001b[1;32mIn[56], line 1\u001b[1;36m\u001b[0m\n\u001b[1;33m    pip install pandas # pour gérer les dataframes\u001b[0m\n\u001b[1;37m        ^\u001b[0m\n\u001b[1;31mSyntaxError\u001b[0m\u001b[1;31m:\u001b[0m invalid syntax\n"
     ]
    }
   ],
   "source": [
    "pip install pandas # pour gérer les dataframes\n",
    "pip install requests #  pour faire des appels API et extraire des données boursières\n",
    "pip install mplfinance # pour créer des graphiques financiers."
   ]
  },
  {
   "cell_type": "code",
   "execution_count": 59,
   "id": "485731b6",
   "metadata": {},
   "outputs": [
    {
     "ename": "ModuleNotFoundError",
     "evalue": "No module named 'mplfinance'",
     "output_type": "error",
     "traceback": [
      "\u001b[1;31m---------------------------------------------------------------------------\u001b[0m",
      "\u001b[1;31mModuleNotFoundError\u001b[0m                       Traceback (most recent call last)",
      "Cell \u001b[1;32mIn[59], line 3\u001b[0m\n\u001b[0;32m      1\u001b[0m \u001b[38;5;28;01mimport\u001b[39;00m \u001b[38;5;21;01mpandas\u001b[39;00m \u001b[38;5;28;01mas\u001b[39;00m \u001b[38;5;21;01mpd\u001b[39;00m\n\u001b[0;32m      2\u001b[0m \u001b[38;5;28;01mimport\u001b[39;00m \u001b[38;5;21;01mrequests\u001b[39;00m\n\u001b[1;32m----> 3\u001b[0m \u001b[38;5;28;01mimport\u001b[39;00m \u001b[38;5;21;01mmplfinance\u001b[39;00m \u001b[38;5;28;01mas\u001b[39;00m \u001b[38;5;21;01mmf\u001b[39;00m\n",
      "\u001b[1;31mModuleNotFoundError\u001b[0m: No module named 'mplfinance'"
     ]
    }
   ],
   "source": [
    "import pandas as pd\n",
    "import requests\n",
    "import mplfinance as mf"
   ]
  },
  {
   "cell_type": "code",
   "execution_count": 60,
   "id": "e7b043ae",
   "metadata": {},
   "outputs": [
    {
     "ename": "KeyError",
     "evalue": "'values'",
     "output_type": "error",
     "traceback": [
      "\u001b[1;31m---------------------------------------------------------------------------\u001b[0m",
      "\u001b[1;31mKeyError\u001b[0m                                  Traceback (most recent call last)",
      "Cell \u001b[1;32mIn[60], line 10\u001b[0m\n\u001b[0;32m      7\u001b[0m     df\u001b[38;5;241m.\u001b[39mindex \u001b[38;5;241m=\u001b[39m pd\u001b[38;5;241m.\u001b[39mto_datetime(df\u001b[38;5;241m.\u001b[39mindex)\n\u001b[0;32m      8\u001b[0m     \u001b[38;5;28;01mreturn\u001b[39;00m df\n\u001b[1;32m---> 10\u001b[0m amzn \u001b[38;5;241m=\u001b[39m \u001b[43mget_historical_data\u001b[49m\u001b[43m(\u001b[49m\u001b[38;5;124;43m'\u001b[39;49m\u001b[38;5;124;43mAMZN\u001b[39;49m\u001b[38;5;124;43m'\u001b[39;49m\u001b[43m,\u001b[49m\u001b[43m \u001b[49m\u001b[38;5;124;43m'\u001b[39;49m\u001b[38;5;124;43m2021-01-01\u001b[39;49m\u001b[38;5;124;43m'\u001b[39;49m\u001b[43m)\u001b[49m\n\u001b[0;32m     11\u001b[0m amzn\u001b[38;5;241m.\u001b[39mtail()\n",
      "Cell \u001b[1;32mIn[60], line 5\u001b[0m, in \u001b[0;36mget_historical_data\u001b[1;34m(symbol, start_date)\u001b[0m\n\u001b[0;32m      3\u001b[0m api_url \u001b[38;5;241m=\u001b[39m \u001b[38;5;124mf\u001b[39m\u001b[38;5;124m'\u001b[39m\u001b[38;5;124mhttps://api.twelvedata.com/time_series?symbol=\u001b[39m\u001b[38;5;132;01m{\u001b[39;00msymbol\u001b[38;5;132;01m}\u001b[39;00m\u001b[38;5;124m&interval=1day&outputsize=5000&apikey=\u001b[39m\u001b[38;5;132;01m{\u001b[39;00mapi_key\u001b[38;5;132;01m}\u001b[39;00m\u001b[38;5;124m'\u001b[39m\n\u001b[0;32m      4\u001b[0m raw_df \u001b[38;5;241m=\u001b[39m requests\u001b[38;5;241m.\u001b[39mget(api_url)\u001b[38;5;241m.\u001b[39mjson()\n\u001b[1;32m----> 5\u001b[0m df \u001b[38;5;241m=\u001b[39m pd\u001b[38;5;241m.\u001b[39mDataFrame(\u001b[43mraw_df\u001b[49m\u001b[43m[\u001b[49m\u001b[38;5;124;43m'\u001b[39;49m\u001b[38;5;124;43mvalues\u001b[39;49m\u001b[38;5;124;43m'\u001b[39;49m\u001b[43m]\u001b[49m)\u001b[38;5;241m.\u001b[39miloc[::\u001b[38;5;241m-\u001b[39m\u001b[38;5;241m1\u001b[39m]\u001b[38;5;241m.\u001b[39mset_index(\u001b[38;5;124m'\u001b[39m\u001b[38;5;124mdatetime\u001b[39m\u001b[38;5;124m'\u001b[39m)\u001b[38;5;241m.\u001b[39mastype(\u001b[38;5;28mfloat\u001b[39m)\n\u001b[0;32m      6\u001b[0m df \u001b[38;5;241m=\u001b[39m df[df\u001b[38;5;241m.\u001b[39mindex \u001b[38;5;241m>\u001b[39m\u001b[38;5;241m=\u001b[39m start_date]\n\u001b[0;32m      7\u001b[0m df\u001b[38;5;241m.\u001b[39mindex \u001b[38;5;241m=\u001b[39m pd\u001b[38;5;241m.\u001b[39mto_datetime(df\u001b[38;5;241m.\u001b[39mindex)\n",
      "\u001b[1;31mKeyError\u001b[0m: 'values'"
     ]
    }
   ],
   "source": [
    "def get_historical_data(symbol, start_date):\n",
    "    api_key = 'YOUR API KEY'\n",
    "    api_url = f'https://api.twelvedata.com/time_series?symbol={symbol}&interval=1day&outputsize=5000&apikey={api_key}'\n",
    "    raw_df = requests.get(api_url).json()\n",
    "    df = pd.DataFrame(raw_df['values']).iloc[::-1].set_index('datetime').astype(float)\n",
    "    df = df[df.index >= start_date]\n",
    "    df.index = pd.to_datetime(df.index)\n",
    "    return df\n",
    "\n",
    "amzn = get_historical_data('AMZN', '2021-01-01')\n",
    "amzn.tail()"
   ]
  },
  {
   "cell_type": "code",
   "execution_count": null,
   "id": "b4dc19cb",
   "metadata": {},
   "outputs": [],
   "source": [
    "from datetime import datetime, timedelta\n",
    "import pandas as pd\n",
    "import matplotlib.pyplot as plt\n",
    "#import matplotlib.finance as finance /No module named 'matplotlib.finance'\n",
    "import mpl_finance as mpf\n",
    "# Get Google stock price from Yahoo! Finance\n",
    "end = datetime.now()\n",
    "begin = end - timedelta(days=365)\n",
    "\n",
    "with mpf.absolute_import('GOOG', begin, end) as fh:\n",
    "    df = pd.read_csv(fh, parse_dates=True, index_col=0)\n",
    "# Keep only the closing price, and sort by date\n",
    "price = df['Close'].sort_index()\n",
    "# Compute the 30-day moving average \n",
    "price_avg = pd.rolling_mean(price, 30)\n",
    "# Plot the stock price\n",
    "price_plot = price.plot()\n",
    "# And plot the average on the same graph, using a line width of 3\n",
    "price_avg.plot(ax=price_plot, lw=3)\n",
    "plt.title('Google Stock Price')\n",
    "plt.show()"
   ]
  },
  {
   "cell_type": "markdown",
   "id": "0b6ef359",
   "metadata": {},
   "source": [
    "## Graphique OHLC"
   ]
  },
  {
   "cell_type": "markdown",
   "id": "fc3cabe1",
   "metadata": {},
   "source": [
    "\n",
    "[bon graphe en finance](https://ichi.pro/fr/creation-de-graphiques-financiers-avances-avec-python-en-une-seule-ligne-de-code-134108186706664)\n",
    "\n",
    "Un graphique OHLC est un type de graphique à barres qui montre les cours d'ouverture, les plus hauts, les plus bas et les cours de clôture pour chaque période. Les graphiques OHLC sont utiles car ils montrent les quatre principaux points de données sur une période, le cours de clôture étant considéré comme le plus important par de nombreux traders. Il est également utile pour montrer l'augmentation ou la diminution de l'élan. Lorsque l'ouverture et la fermeture sont éloignées, cela montre une forte dynamique, et lorsqu'elles s'ouvrent et se ferment sont proches l'une de l'autre, cela montre une indécision ou une faible dynamique. Le haut et le bas montrent la gamme complète de prix de la période, utile pour évaluer la volatilité. Maintenant, pour créer un graphique OHLC avec mplfinance, il suffit d'une ligne de code :"
   ]
  },
  {
   "cell_type": "code",
   "execution_count": null,
   "id": "afff0586",
   "metadata": {},
   "outputs": [],
   "source": [
    "mf.plot(amzn.iloc[:-50,:])"
   ]
  },
  {
   "cell_type": "code",
   "execution_count": null,
   "id": "e707014a",
   "metadata": {},
   "outputs": [],
   "source": []
  },
  {
   "cell_type": "code",
   "execution_count": null,
   "id": "ae12bc5b",
   "metadata": {},
   "outputs": [],
   "source": []
  },
  {
   "cell_type": "markdown",
   "id": "9f5c1760",
   "metadata": {},
   "source": [
    " # Interactive exercise: list-based quiz game"
   ]
  },
  {
   "cell_type": "markdown",
   "id": "a4a6eaf6",
   "metadata": {},
   "source": [
    " Each dictionary should represent a quiz question with its answer and multiple-choice options."
   ]
  },
  {
   "cell_type": "code",
   "execution_count": 1,
   "id": "f1076e6a",
   "metadata": {},
   "outputs": [],
   "source": [
    "questions = [\n",
    "    {'question': 'What is the capital of France?', 'answer': 'Paris', 'options': ['London', 'Paris', 'Rome', 'Berlin']},\n",
    "    {'question': 'Which planet is closest to the sun?', 'answer': 'Mercury', 'options': ['Earth', 'Mars', 'Mercury', 'Venus']},\n",
    "    {'question': 'How many continents are there?', 'answer': '7', 'options': ['5', '6', '7', '8']}\n",
    "]"
   ]
  },
  {
   "cell_type": "code",
   "execution_count": 2,
   "id": "ba221f8f",
   "metadata": {},
   "outputs": [
    {
     "name": "stdout",
     "output_type": "stream",
     "text": [
      "What is the capital of France?\n",
      "1. London\n",
      "2. Paris\n",
      "3. Rome\n",
      "4. Berlin\n",
      "Enter your answer: Paris\n",
      "Correct!\n",
      "\n",
      "Which planet is closest to the sun?\n",
      "1. Earth\n",
      "2. Mars\n",
      "3. Mercury\n",
      "4. Venus\n",
      "Enter your answer: Mercury\n",
      "Correct!\n",
      "\n",
      "How many continents are there?\n",
      "1. 5\n",
      "2. 6\n",
      "3. 7\n",
      "4. 8\n",
      "Enter your answer: 7\n",
      "Correct!\n",
      "\n"
     ]
    }
   ],
   "source": [
    "score = 0\n",
    "total_questions = len(questions)\n",
    "for question in questions:\n",
    "    print(question['question'])\n",
    "    for index, option in enumerate(question['options']):\n",
    "        print(f\"{index + 1}. {option}\")\n",
    "    user_answer = input(\"Enter your answer: \")\n",
    "    if user_answer.lower() == question['answer'].lower():\n",
    "        print(\"Correct!\")\n",
    "        score += 1\n",
    "    else:\n",
    "        print(f\"Sorry, the correct answer is {question['answer']}.\")\n",
    "    print()  # Print an empty line for better readability"
   ]
  },
  {
   "cell_type": "code",
   "execution_count": 3,
   "id": "812563fd",
   "metadata": {},
   "outputs": [
    {
     "name": "stdout",
     "output_type": "stream",
     "text": [
      "Your final score is 3 out of 3 (100.0%).\n"
     ]
    }
   ],
   "source": [
    "percentage = (score / total_questions) * 100\n",
    "print(f\"Your final score is {score} out of {total_questions} ({percentage}%).\")"
   ]
  },
  {
   "cell_type": "markdown",
   "id": "1ad2a402",
   "metadata": {},
   "source": [
    " how to use lists and dictionaries in Python to create an interactive quiz game."
   ]
  },
  {
   "cell_type": "markdown",
   "id": "48665689",
   "metadata": {},
   "source": [
    "## Interactive exercise: student grade management"
   ]
  },
  {
   "cell_type": "code",
   "execution_count": 4,
   "id": "5196c0d0",
   "metadata": {},
   "outputs": [],
   "source": [
    "students = [\n",
    "    ('Alice', 85.5),\n",
    "    ('Bob', 78.0),\n",
    "    ('Charlie', 92.0),\n",
    "    ('David', 88.5)\n",
    "]"
   ]
  },
  {
   "cell_type": "code",
   "execution_count": 7,
   "id": "07688ba9",
   "metadata": {},
   "outputs": [
    {
     "name": "stdout",
     "output_type": "stream",
     "text": [
      "Students sorted by grade (descending):\n",
      "Charlie: 92.0\n",
      "David: 88.5\n",
      "Alice: 85.5\n",
      "Bob: 78.0\n"
     ]
    }
   ],
   "source": [
    "sorted_students = sorted(students, key=lambda x: x[1], reverse=True)\n",
    "print(\"Students sorted by grade (descending):\")\n",
    "for student in sorted_students:\n",
    "    name, grade = student\n",
    "    print(f\"{name}: {grade}\")"
   ]
  },
  {
   "cell_type": "code",
   "execution_count": 18,
   "id": "61e47031",
   "metadata": {},
   "outputs": [],
   "source": [
    "person = {'name': 'Alice', 'age': 30, 'city': 'New York'}"
   ]
  },
  {
   "cell_type": "code",
   "execution_count": 19,
   "id": "d0d83ff7",
   "metadata": {},
   "outputs": [
    {
     "name": "stdout",
     "output_type": "stream",
     "text": [
      "Alice\n"
     ]
    }
   ],
   "source": [
    "print(person['name'])  # Output: Alice"
   ]
  },
  {
   "cell_type": "code",
   "execution_count": 20,
   "id": "c6966a8a",
   "metadata": {},
   "outputs": [
    {
     "name": "stdout",
     "output_type": "stream",
     "text": [
      "{'name': 'Alice', 'age': 30, 'city': 'New York', 'email': 'alice@example.com'}\n"
     ]
    }
   ],
   "source": [
    "person['email'] = 'alice@example.com'\n",
    "print(person)  # Output: {'name': 'Alice', 'age': 30, 'city': 'New York', 'email': 'alice@example.com'}"
   ]
  },
  {
   "cell_type": "code",
   "execution_count": 22,
   "id": "1686a2b3",
   "metadata": {},
   "outputs": [
    {
     "name": "stdout",
     "output_type": "stream",
     "text": [
      "dict_items([('name', 'Alice'), ('age', 30), ('city', 'New York'), ('email', 'alice@example.com')])\n"
     ]
    }
   ],
   "source": [
    "items = person.items()\n",
    "print(items)"
   ]
  },
  {
   "cell_type": "code",
   "execution_count": 23,
   "id": "38e81ca5",
   "metadata": {},
   "outputs": [
    {
     "name": "stdout",
     "output_type": "stream",
     "text": [
      "name: Alice\n",
      "age: 30\n",
      "city: New York\n",
      "email: alice@example.com\n"
     ]
    }
   ],
   "source": [
    "for key, value in person.items():\n",
    "    print(f\"{key}: {value}\")"
   ]
  },
  {
   "cell_type": "markdown",
   "id": "9c00d584",
   "metadata": {},
   "source": [
    "## Interactive exercise: dictionary-based word game"
   ]
  },
  {
   "cell_type": "code",
   "execution_count": 24,
   "id": "847aa3fd",
   "metadata": {},
   "outputs": [],
   "source": [
    "word_definitions = {\n",
    "    'python': 'a large heavy-bodied nonvenomous snake occurring throughout the Old World tropics.',\n",
    "    'programming': 'the process of writing computer programs.',\n",
    "    'computer': 'an electronic device for storing and processing data, typically in binary form.'}"
   ]
  },
  {
   "cell_type": "code",
   "execution_count": 26,
   "id": "af3451e8",
   "metadata": {},
   "outputs": [
    {
     "name": "stdout",
     "output_type": "stream",
     "text": [
      "What is the definition of 'python'?\n"
     ]
    },
    {
     "ename": "KeyboardInterrupt",
     "evalue": "Interrupted by user",
     "output_type": "error",
     "traceback": [
      "\u001b[1;31m---------------------------------------------------------------------------\u001b[0m",
      "\u001b[1;31mKeyboardInterrupt\u001b[0m                         Traceback (most recent call last)",
      "Cell \u001b[1;32mIn[26], line 5\u001b[0m\n\u001b[0;32m      3\u001b[0m \u001b[38;5;28;01mfor\u001b[39;00m word, definition \u001b[38;5;129;01min\u001b[39;00m word_definitions\u001b[38;5;241m.\u001b[39mitems():\n\u001b[0;32m      4\u001b[0m     \u001b[38;5;28mprint\u001b[39m(\u001b[38;5;124mf\u001b[39m\u001b[38;5;124m\"\u001b[39m\u001b[38;5;124mWhat is the definition of \u001b[39m\u001b[38;5;124m'\u001b[39m\u001b[38;5;132;01m{\u001b[39;00mword\u001b[38;5;132;01m}\u001b[39;00m\u001b[38;5;124m'\u001b[39m\u001b[38;5;124m?\u001b[39m\u001b[38;5;124m\"\u001b[39m)\n\u001b[1;32m----> 5\u001b[0m     ser_answer \u001b[38;5;241m=\u001b[39m \u001b[38;5;28;43minput\u001b[39;49m\u001b[43m(\u001b[49m\u001b[38;5;124;43m\"\u001b[39;49m\u001b[38;5;124;43mEnter your answer: \u001b[39;49m\u001b[38;5;124;43m\"\u001b[39;49m\u001b[43m)\u001b[49m\n\u001b[0;32m      7\u001b[0m     \u001b[38;5;28;01mif\u001b[39;00m user_answer\u001b[38;5;241m.\u001b[39mlower() \u001b[38;5;129;01min\u001b[39;00m definition\u001b[38;5;241m.\u001b[39mlower():\n\u001b[0;32m      8\u001b[0m         \u001b[38;5;28mprint\u001b[39m(\u001b[38;5;124m\"\u001b[39m\u001b[38;5;124mCorrect!\u001b[39m\u001b[38;5;124m\"\u001b[39m)\n",
      "File \u001b[1;32m~\\anaconda3\\lib\\site-packages\\ipykernel\\kernelbase.py:1175\u001b[0m, in \u001b[0;36mKernel.raw_input\u001b[1;34m(self, prompt)\u001b[0m\n\u001b[0;32m   1171\u001b[0m \u001b[38;5;28;01mif\u001b[39;00m \u001b[38;5;129;01mnot\u001b[39;00m \u001b[38;5;28mself\u001b[39m\u001b[38;5;241m.\u001b[39m_allow_stdin:\n\u001b[0;32m   1172\u001b[0m     \u001b[38;5;28;01mraise\u001b[39;00m StdinNotImplementedError(\n\u001b[0;32m   1173\u001b[0m         \u001b[38;5;124m\"\u001b[39m\u001b[38;5;124mraw_input was called, but this frontend does not support input requests.\u001b[39m\u001b[38;5;124m\"\u001b[39m\n\u001b[0;32m   1174\u001b[0m     )\n\u001b[1;32m-> 1175\u001b[0m \u001b[38;5;28;01mreturn\u001b[39;00m \u001b[38;5;28;43mself\u001b[39;49m\u001b[38;5;241;43m.\u001b[39;49m\u001b[43m_input_request\u001b[49m\u001b[43m(\u001b[49m\n\u001b[0;32m   1176\u001b[0m \u001b[43m    \u001b[49m\u001b[38;5;28;43mstr\u001b[39;49m\u001b[43m(\u001b[49m\u001b[43mprompt\u001b[49m\u001b[43m)\u001b[49m\u001b[43m,\u001b[49m\n\u001b[0;32m   1177\u001b[0m \u001b[43m    \u001b[49m\u001b[38;5;28;43mself\u001b[39;49m\u001b[38;5;241;43m.\u001b[39;49m\u001b[43m_parent_ident\u001b[49m\u001b[43m[\u001b[49m\u001b[38;5;124;43m\"\u001b[39;49m\u001b[38;5;124;43mshell\u001b[39;49m\u001b[38;5;124;43m\"\u001b[39;49m\u001b[43m]\u001b[49m\u001b[43m,\u001b[49m\n\u001b[0;32m   1178\u001b[0m \u001b[43m    \u001b[49m\u001b[38;5;28;43mself\u001b[39;49m\u001b[38;5;241;43m.\u001b[39;49m\u001b[43mget_parent\u001b[49m\u001b[43m(\u001b[49m\u001b[38;5;124;43m\"\u001b[39;49m\u001b[38;5;124;43mshell\u001b[39;49m\u001b[38;5;124;43m\"\u001b[39;49m\u001b[43m)\u001b[49m\u001b[43m,\u001b[49m\n\u001b[0;32m   1179\u001b[0m \u001b[43m    \u001b[49m\u001b[43mpassword\u001b[49m\u001b[38;5;241;43m=\u001b[39;49m\u001b[38;5;28;43;01mFalse\u001b[39;49;00m\u001b[43m,\u001b[49m\n\u001b[0;32m   1180\u001b[0m \u001b[43m\u001b[49m\u001b[43m)\u001b[49m\n",
      "File \u001b[1;32m~\\anaconda3\\lib\\site-packages\\ipykernel\\kernelbase.py:1217\u001b[0m, in \u001b[0;36mKernel._input_request\u001b[1;34m(self, prompt, ident, parent, password)\u001b[0m\n\u001b[0;32m   1214\u001b[0m             \u001b[38;5;28;01mbreak\u001b[39;00m\n\u001b[0;32m   1215\u001b[0m \u001b[38;5;28;01mexcept\u001b[39;00m \u001b[38;5;167;01mKeyboardInterrupt\u001b[39;00m:\n\u001b[0;32m   1216\u001b[0m     \u001b[38;5;66;03m# re-raise KeyboardInterrupt, to truncate traceback\u001b[39;00m\n\u001b[1;32m-> 1217\u001b[0m     \u001b[38;5;28;01mraise\u001b[39;00m \u001b[38;5;167;01mKeyboardInterrupt\u001b[39;00m(\u001b[38;5;124m\"\u001b[39m\u001b[38;5;124mInterrupted by user\u001b[39m\u001b[38;5;124m\"\u001b[39m) \u001b[38;5;28;01mfrom\u001b[39;00m \u001b[38;5;28mNone\u001b[39m\n\u001b[0;32m   1218\u001b[0m \u001b[38;5;28;01mexcept\u001b[39;00m \u001b[38;5;167;01mException\u001b[39;00m:\n\u001b[0;32m   1219\u001b[0m     \u001b[38;5;28mself\u001b[39m\u001b[38;5;241m.\u001b[39mlog\u001b[38;5;241m.\u001b[39mwarning(\u001b[38;5;124m\"\u001b[39m\u001b[38;5;124mInvalid Message:\u001b[39m\u001b[38;5;124m\"\u001b[39m, exc_info\u001b[38;5;241m=\u001b[39m\u001b[38;5;28;01mTrue\u001b[39;00m)\n",
      "\u001b[1;31mKeyboardInterrupt\u001b[0m: Interrupted by user"
     ]
    }
   ],
   "source": [
    "score = 0\n",
    "total_words = len(word_definitions)\n",
    "for word, definition in word_definitions.items():\n",
    "    print(f\"What is the definition of '{word}'?\")\n",
    "    ser_answer = input(\"Enter your answer: \")\n",
    "\n",
    "    if user_answer.lower() in definition.lower():\n",
    "        print(\"Correct!\")\n",
    "        score += 1\n",
    "    else:\n",
    "        print(f\"Sorry, the correct definition is: {definition}.\")\n",
    "    print()  # Print an empty line for better readability\n",
    "\n",
    "percentage = (score / total_words) * 100\n",
    "print(f\"Your final score is {score} out of {total_words} ({percentage}%).\")"
   ]
  },
  {
   "cell_type": "markdown",
   "id": "86fedf72",
   "metadata": {},
   "source": [
    " ## Interactive exercise: email address validator"
   ]
  },
  {
   "cell_type": "code",
   "execution_count": 27,
   "id": "69f25496",
   "metadata": {},
   "outputs": [
    {
     "name": "stdout",
     "output_type": "stream",
     "text": [
      "['contact@example.com or', 'support@example.org']\n"
     ]
    }
   ],
   "source": [
    "# to find all email addresses in a text, you can use the following code:\n",
    "import re\n",
    "text = \"Contact us at contact@example.com or support@example.org\"\n",
    "pattern = r'\\b[A-Za-z0-9._%+-]+@[A-Za-z0-9.-]+.[A-Z|a-z]{2,}\\b'\n",
    "emails = re.findall(pattern, text)\n",
    "print(emails) # Output: ['contact@example.com', 'support@example.org'] "
   ]
  },
  {
   "cell_type": "code",
   "execution_count": 28,
   "id": "9f393ad7",
   "metadata": {},
   "outputs": [],
   "source": [
    "def is_valid_email(email):\n",
    "    pattern = r'\\b[A-Za-z0-9._%+-]+@[A-Za-z0-9.-]+\\.[A-Z|a-z]{2,}\\b'\n",
    "    return bool(re.match(pattern, email))"
   ]
  },
  {
   "cell_type": "code",
   "execution_count": 29,
   "id": "114c0fac",
   "metadata": {},
   "outputs": [
    {
     "name": "stdout",
     "output_type": "stream",
     "text": [
      "Enter an email address or type 'quit' to exit: trabinene@gmail.com\n",
      "The email address is valid.\n",
      "Enter an email address or type 'quit' to exit: quit\n"
     ]
    }
   ],
   "source": [
    "while True:\n",
    "    email = input(\"Enter an email address or type 'quit' to exit: \")\n",
    "    if email == \"quit\":\n",
    "        break\n",
    "\n",
    "    if is_valid_email(email):\n",
    "        print(\"The email address is valid.\")\n",
    "    else:\n",
    "        print(\"The email address is not valid.\")"
   ]
  },
  {
   "cell_type": "code",
   "execution_count": null,
   "id": "98d0f133",
   "metadata": {},
   "outputs": [],
   "source": [
    "def play_game():\n",
    "    number_to_guess = random.randint(1, 100)\n",
    "    user_guess = None\n",
    "    while user_guess != number_to_guess:\n",
    "        user_guess = int(input(\"Enter your guess (1-100): \"))\n",
    "\n",
    "        if user_guess < number_to_guess:\n",
    "            print(\"Too low!\")\n",
    "        elif user_guess > number_to_guess:\n",
    "            print(\"Too high!\")\n",
    "\n",
    "    print(\"Congratulations! You guessed the correct number.\")"
   ]
  },
  {
   "cell_type": "code",
   "execution_count": null,
   "id": "7fbbd243",
   "metadata": {},
   "outputs": [],
   "source": []
  }
 ],
 "metadata": {
  "celltoolbar": "Edit Metadata",
  "kernelspec": {
   "display_name": "Python 3 (ipykernel)",
   "language": "python",
   "name": "python3"
  },
  "language_info": {
   "codemirror_mode": {
    "name": "ipython",
    "version": 3
   },
   "file_extension": ".py",
   "mimetype": "text/x-python",
   "name": "python",
   "nbconvert_exporter": "python",
   "pygments_lexer": "ipython3",
   "version": "3.10.9"
  }
 },
 "nbformat": 4,
 "nbformat_minor": 5
}
