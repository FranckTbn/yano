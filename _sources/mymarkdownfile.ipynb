{
 "cells": [
  {
   "cell_type": "markdown",
   "id": "a9565b4c-f60e-4c01-86cc-0e3bafdbb631",
   "metadata": {},
   "source": [
    "# Here's my sample title\n",
    "\n",
    "This is some sample text.\n",
    "\n",
    "(section-label)=\n",
    "## Here's my first section\n",
    "\n",
    "Here is a [reference to the intro](intro.md). Here is a reference to [a](section-label)."
   ]
  },
  {
   "cell_type": "code",
   "execution_count": null,
   "id": "65689cf1-e850-4137-a425-609aec0b4b7a",
   "metadata": {},
   "outputs": [],
   "source": []
  },
  {
   "cell_type": "code",
   "execution_count": null,
   "id": "c6f7f041-ee9a-4e8d-b661-de380cea1923",
   "metadata": {},
   "outputs": [],
   "source": []
  },
  {
   "cell_type": "code",
   "execution_count": null,
   "id": "257e8bc3-cbca-4719-b80c-36764eea14b3",
   "metadata": {},
   "outputs": [],
   "source": []
  },
  {
   "cell_type": "code",
   "execution_count": null,
   "id": "0e5a7ba8-3187-4d23-bedf-91b2874903e3",
   "metadata": {},
   "outputs": [],
   "source": []
  },
  {
   "cell_type": "code",
   "execution_count": null,
   "id": "6adb8484-f200-4c0a-8f36-197e7ad4c952",
   "metadata": {},
   "outputs": [],
   "source": []
  },
  {
   "cell_type": "code",
   "execution_count": null,
   "id": "8eff76dd-c7a5-442b-90b4-c7f8d298f992",
   "metadata": {},
   "outputs": [],
   "source": []
  },
  {
   "cell_type": "code",
   "execution_count": null,
   "id": "253263bc-934d-45c7-a318-741adeed0ec5",
   "metadata": {},
   "outputs": [],
   "source": []
  },
  {
   "cell_type": "code",
   "execution_count": null,
   "id": "bfcc379a-2867-442e-bfd2-a53358831ba9",
   "metadata": {},
   "outputs": [],
   "source": []
  },
  {
   "cell_type": "code",
   "execution_count": null,
   "id": "b7f68b02-8025-482c-a1b1-41ae4cffada5",
   "metadata": {},
   "outputs": [],
   "source": []
  },
  {
   "cell_type": "code",
   "execution_count": null,
   "id": "8cf250c7-429b-4d4a-a113-b42d548414d3",
   "metadata": {},
   "outputs": [],
   "source": []
  },
  {
   "cell_type": "code",
   "execution_count": null,
   "id": "30e15205-3127-4748-945d-0abc7ed10828",
   "metadata": {},
   "outputs": [],
   "source": []
  },
  {
   "cell_type": "code",
   "execution_count": null,
   "id": "9f4b7964-8b07-485d-9be0-af5e163dd9f5",
   "metadata": {},
   "outputs": [],
   "source": []
  },
  {
   "cell_type": "markdown",
   "id": "c6c9d083-0a91-4908-9f90-31f0c382fd33",
   "metadata": {
    "tags": []
   },
   "source": [
    "to [a](section-label)."
   ]
  },
  {
   "cell_type": "code",
   "execution_count": null,
   "id": "d10665ab-5cea-4796-8fa7-f7db75b3a019",
   "metadata": {},
   "outputs": [],
   "source": []
  }
 ],
 "metadata": {
  "kernelspec": {
   "display_name": "Python 3 (ipykernel)",
   "language": "python",
   "name": "python3"
  },
  "language_info": {
   "codemirror_mode": {
    "name": "ipython",
    "version": 3
   },
   "file_extension": ".py",
   "mimetype": "text/x-python",
   "name": "python",
   "nbconvert_exporter": "python",
   "pygments_lexer": "ipython3",
   "version": "3.10.9"
  }
 },
 "nbformat": 4,
 "nbformat_minor": 5
}
