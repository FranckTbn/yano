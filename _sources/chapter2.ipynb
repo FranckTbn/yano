{
 "cells": [
  {
   "cell_type": "markdown",
   "id": "8e5e6634-3037-4ace-b26a-4c8f636986e3",
   "metadata": {},
   "source": [
    "## mes recherches et tout ce qui est utiles"
   ]
  },
  {
   "cell_type": "code",
   "execution_count": 2,
   "id": "98a00a63-2ae5-4155-b146-420d625b0607",
   "metadata": {
    "tags": []
   },
   "outputs": [],
   "source": [
    "from warnings import filterwarnings\n",
    "filterwarnings('ignore')\n",
    "from IPython.display import HTML"
   ]
  },
  {
   "cell_type": "markdown",
   "id": "23a052eb-2ca2-419a-80d4-74cfdca20c62",
   "metadata": {},
   "source": [
    "mettre mes travaux "
   ]
  },
  {
   "cell_type": "markdown",
   "id": "7e4ad080-1775-4bde-9382-3d72d0036fe1",
   "metadata": {},
   "source": [
    "restituer mes travaux "
   ]
  },
  {
   "cell_type": "markdown",
   "id": "d0f4f271-d632-4c9e-899f-b32ccaf48cba",
   "metadata": {},
   "source": [
    "quand je fais un travail que j'arrive pas à expliquer, dans la tête des gens ce travail est faux\n"
   ]
  },
  {
   "cell_type": "markdown",
   "id": "f3162204-d8b3-4db7-946d-267ea65a3827",
   "metadata": {},
   "source": [
    "---"
   ]
  },
  {
   "cell_type": "markdown",
   "id": "0e416e11-3f73-43eb-b92a-4947dae97c87",
   "metadata": {},
   "source": [
    "mais quand tu arrives a expliquer, même si j'ai pas fais les bons choix techniques "
   ]
  },
  {
   "cell_type": "markdown",
   "id": "f7382760-0588-412e-a40b-488a2df6d48f",
   "metadata": {},
   "source": [
    "arriver à démocratiser des choses techniques à des personnes non technique "
   ]
  },
  {
   "cell_type": "markdown",
   "id": "0e078836-1d75-4815-9ef0-1c3dccf7e902",
   "metadata": {},
   "source": [
    "## réalisation 2\n",
    "\n",
    "en temps réel, fair un fichier par réalisation\n",
    "[portfolio](https://youtu.be/K1Poypsea-E)"
   ]
  },
  {
   "cell_type": "markdown",
   "id": "738b90bf-143a-4a5b-9163-caccb5a726ae",
   "metadata": {},
   "source": [
    "![logo](logo.png)"
   ]
  },
  {
   "cell_type": "markdown",
   "id": "2a8201a2-33a1-4740-ac78-4821648018fc",
   "metadata": {},
   "source": [
    "data product : les produits finaux doivent être des aplications"
   ]
  },
  {
   "cell_type": "markdown",
   "id": "29a5f354-507b-4573-81af-0779102848a8",
   "metadata": {},
   "source": [
    "Description du projet\n",
    "faire une application avec steamligth\n",
    "\n",
    "et les déplacer sur streamlgth share\n",
    "\n",
    "\n",
    "rescencer tous les packages nécessaires pour vos projets dans requirements,"
   ]
  },
  {
   "cell_type": "code",
   "execution_count": null,
   "id": "d107975a-3c2e-4621-b0ba-3e1c132e0736",
   "metadata": {},
   "outputs": [],
   "source": []
  }
 ],
 "metadata": {
  "kernelspec": {
   "display_name": "Python 3 (ipykernel)",
   "language": "python",
   "name": "python3"
  },
  "language_info": {
   "codemirror_mode": {
    "name": "ipython",
    "version": 3
   },
   "file_extension": ".py",
   "mimetype": "text/x-python",
   "name": "python",
   "nbconvert_exporter": "python",
   "pygments_lexer": "ipython3",
   "version": "3.10.9"
  }
 },
 "nbformat": 4,
 "nbformat_minor": 5
}
