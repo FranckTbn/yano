{
 "cells": [
  {
   "cell_type": "markdown",
   "id": "fb05b7c2-c848-42c8-a7fd-26633d509293",
   "metadata": {
    "tags": []
   },
   "source": [
    "## Projet 3 "
   ]
  },
  {
   "cell_type": "markdown",
   "id": "05bda877-53aa-4f05-aa64-76a997b739f5",
   "metadata": {},
   "source": [
    "### Description du projet"
   ]
  },
  {
   "cell_type": "markdown",
   "id": "e84dc747-b018-4f9d-bb82-4cc36e279175",
   "metadata": {},
   "source": [
    "faire une application avec steamligth"
   ]
  },
  {
   "cell_type": "markdown",
   "id": "df03dc97-980f-4d5f-bb2e-8079538d3fd4",
   "metadata": {
    "tags": []
   },
   "source": [
    "et les déplacer sur streamlgth share"
   ]
  },
  {
   "cell_type": "markdown",
   "id": "abf07660-302e-4df5-9418-7df4c593ae74",
   "metadata": {},
   "source": [
    "rescencer tous les packages nécessaires pour vos projets dans requirements,"
   ]
  }
 ],
 "metadata": {
  "kernelspec": {
   "display_name": "Python 3 (ipykernel)",
   "language": "python",
   "name": "python3"
  },
  "language_info": {
   "codemirror_mode": {
    "name": "ipython",
    "version": 3
   },
   "file_extension": ".py",
   "mimetype": "text/x-python",
   "name": "python",
   "nbconvert_exporter": "python",
   "pygments_lexer": "ipython3",
   "version": "3.10.9"
  }
 },
 "nbformat": 4,
 "nbformat_minor": 5
}
